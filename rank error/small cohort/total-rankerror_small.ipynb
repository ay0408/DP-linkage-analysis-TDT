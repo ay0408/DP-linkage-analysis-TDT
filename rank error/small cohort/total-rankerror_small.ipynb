{
 "cells": [
  {
   "cell_type": "code",
   "execution_count": 1,
   "metadata": {},
   "outputs": [],
   "source": [
    "import numpy as np\n",
    "import math\n",
    "from scipy import integrate\n",
    "import matplotlib.pyplot as plt\n",
    "import random\n",
    "import time\n",
    "from scipy.stats import rankdata"
   ]
  },
  {
   "cell_type": "code",
   "execution_count": 2,
   "metadata": {},
   "outputs": [],
   "source": [
    "def lap_noise(data, epsilon, K, N, M):\n",
    "    pri_data = data + np.random.laplace(loc = 0.0, scale = (K*(16*N-11)/N)/epsilon, size=data.shape)\n",
    "    \n",
    "    min = 10000\n",
    "    \n",
    "    for i in range(M):\n",
    "        if pri_data[i] > 0 and pri_data[i] < min:\n",
    "            min = pri_data[i]\n",
    "    \n",
    "    for i in range(M):\n",
    "        if pri_data[i] < 0:\n",
    "            pri_data[i] = min\n",
    "    \n",
    "    return pri_data"
   ]
  },
  {
   "cell_type": "code",
   "execution_count": 3,
   "metadata": {},
   "outputs": [],
   "source": [
    "def total(n):\n",
    "    h = n[1]+n[2]+n[3] + 2*(n[4]+n[5]+n[6]+n[7]+n[8]+n[9])\n",
    "    i = n[3]+n[7]+n[8] + 2*n[9]\n",
    "    j = n[2]+n[5] + 2*n[6] + n[8]\n",
    "    \n",
    "    if h == 0:\n",
    "        return 0\n",
    "    else:\n",
    "        return (4*((i-h/4)**2) + 2*((i+j-h/2)**2) + 4*((j-h/4)**2))/h"
   ]
  },
  {
   "cell_type": "code",
   "execution_count": 4,
   "metadata": {},
   "outputs": [],
   "source": [
    "def f(x, y, theta):\n",
    "    t = (x - math.sqrt(2)*math.cos(theta))**2 + (y - math.sin(theta))**2\n",
    "    return math.sqrt(t)\n",
    "\n",
    "def eDistance(x,y):\n",
    "    if x != 0:\n",
    "        roots = np.roots([4, 4*y, 8*x*x + y*y -4, -4*y, -y*y])\n",
    "        #print(roots)\n",
    "        theta = np.zeros(9)\n",
    "        theta[0] = 0\n",
    "        c = 1\n",
    "        for i in range(4):\n",
    "            if roots[i] >= -1 and roots[i] <= 1:\n",
    "                theta[c] = math.asin(roots[i])\n",
    "                if theta[c] >= 0:\n",
    "                    theta[c+1] = math.pi - theta[c]\n",
    "                else:\n",
    "                    theta[c+1] = - math.pi - theta[c]\n",
    "                c += 2\n",
    "        #print(theta)\n",
    "        \n",
    "        distance = 1000000000\n",
    "        for j in range(c):\n",
    "            #print(f(x,y,theta[j]))\n",
    "            if f(x,y,theta[j]) < distance:\n",
    "                distance = f(x,y,theta[j])\n",
    "                \n",
    "    else:\n",
    "        if y > 0:\n",
    "            distance = math.fabs(1-y)\n",
    "        else:\n",
    "            distance = math.fabs(-1-y)\n",
    "    return distance"
   ]
  },
  {
   "cell_type": "code",
   "execution_count": 5,
   "metadata": {},
   "outputs": [],
   "source": [
    "def appx_SHD_total(cc,n):\n",
    "    h = n[1]+n[2]+n[3] + 2*(n[4]+n[5]+n[6]+n[7]+n[8]+n[9])\n",
    "    i = n[3]+n[7]+n[8] + 2*n[9]\n",
    "    j = n[2]+n[5] + 2*n[6] + n[8]\n",
    "    T = total(n)\n",
    "    \n",
    "    if h <= cc:\n",
    "        s = 2*(i-j)/cc\n",
    "        t = 2*(i+j-cc/2)/cc\n",
    "        d = eDistance(s,t)\n",
    "        if T < cc:\n",
    "            return -math.ceil((math.sqrt(2)-1)*(cc-h)/(2*math.sqrt(2)) + d*cc/8)\n",
    "        else:\n",
    "            return math.ceil((math.sqrt(2)-1)*(cc-h)/(2*math.sqrt(2)) + d*cc/8)-1\n",
    "    else:\n",
    "        s = 2*(i-j)/math.sqrt(h*cc)\n",
    "        t = 2*(i+j-h/2)/math.sqrt(h*cc)\n",
    "        d = eDistance(s,t)\n",
    "        if T < cc:\n",
    "            return -math.ceil(d*math.sqrt(h*cc)/8)\n",
    "        else:\n",
    "            return math.ceil(d*math.sqrt(h*cc)/8)-1"
   ]
  },
  {
   "cell_type": "code",
   "execution_count": 6,
   "metadata": {},
   "outputs": [],
   "source": [
    "def random_num(pd):\n",
    "    dist = np.cumsum(pd).tolist()\n",
    "    dist[-1] = 1.0\n",
    "    num = np.random.rand()\n",
    "    dist.append(num)\n",
    "    return sorted(dist).index(num)\n",
    "\n",
    "def exp_mec(shd, m, K, epsilon):\n",
    "    S = np.zeros(K)\n",
    "    k = 0\n",
    "    \n",
    "    w = np.zeros(m)\n",
    "    p = np.zeros(m)\n",
    "    \n",
    "    while k < K:\n",
    "        sumw = 0\n",
    "        for i in range(m):\n",
    "            w[i] = math.exp(epsilon * shd[i] / (2*K))\n",
    "            sumw += w[i]\n",
    "        for i in range(m):\n",
    "            p[i] = w[i]/sumw\n",
    "        \n",
    "        x = random_num(p)\n",
    "        shd[x] = -1000000.0\n",
    "        S[k] = x\n",
    "        k += 1\n",
    "    \n",
    "    return S"
   ]
  },
  {
   "cell_type": "code",
   "execution_count": 7,
   "metadata": {},
   "outputs": [
    {
     "data": {
      "image/png": "[encoded data removed]",
      "text/plain": [
       "<Figure size 432x288 with 1 Axes>"
      ]
     },
     "metadata": {
      "needs_background": "light"
     },
     "output_type": "display_data"
    }
   ],
   "source": [
    "N = 150\n",
    "M = 5000\n",
    "H = np.zeros(M)\n",
    "I = np.zeros(M)\n",
    "J = np.zeros(M)\n",
    "\n",
    "n = np.zeros((M,10))\n",
    "\n",
    "for i in range(M-10):\n",
    "    n[i][4] = np.random.binomial(2*N, 1/5)\n",
    "    S = np.random.binomial(2*N-n[i][4], 1/4) #n7+n9+n10\n",
    "    P = np.random.binomial(S, 1/2) #n7+n10\n",
    "    n[i][6] = np.random.binomial(P, 1/2)\n",
    "    n[i][9] = P - n[i][6]\n",
    "    n[i][8] = S - P\n",
    "    n[i][1] = np.random.binomial(2*N-n[i][4]-S, 1/3)\n",
    "    T = np.random.binomial(2*N-n[i][4]-n[i][1]-S, 1/2) #n3+n4\n",
    "    n[i][2] = np.random.binomial(T, 1/2)\n",
    "    n[i][3] = T - n[i][2]\n",
    "    R = 2*N-n[i][4]-n[i][1]-S-T\n",
    "    Q = np.random.binomial(R, 1/2) #n6+n8\n",
    "    n[i][5] = np.random.binomial(Q, 1/2)\n",
    "    n[i][7] = Q - n[i][5]\n",
    "    n[i][0] = R - Q\n",
    "    \n",
    "    H[i] = n[i][1]+n[i][2]+n[i][3] + 2*(n[i][4]+n[i][5]+n[i][6]+n[i][7]+n[i][8]+n[i][9])\n",
    "    I[i] = n[i][3]+n[i][7]+n[i][8] + 2*n[i][9]\n",
    "    J[i] = n[i][2]+n[i][5] + 2*n[i][6] + n[i][8]\n",
    "    \n",
    "for i in range(M-10,M):\n",
    "    n[i][4] = np.random.binomial(2*N, 1.5/5)\n",
    "    S = np.random.binomial(2*N-n[i][4], 1/4) #n7+n9+n10\n",
    "    P = np.random.binomial(S, 1/2) #n7+n10\n",
    "    n[i][6] = np.random.binomial(P, 1.5/2)\n",
    "    n[i][9] = P - n[i][6]\n",
    "    n[i][8] = S - P\n",
    "    n[i][1] = np.random.binomial(2*N-n[i][4]-S, 1.5/3)\n",
    "    T = np.random.binomial(2*N-n[i][4]-n[i][1]-S, 1/2) #n3+n4\n",
    "    n[i][2] = np.random.binomial(T, 1.5/2)\n",
    "    n[i][3] = T - n[i][2]\n",
    "    R = 2*N-n[i][4]-n[i][1]-S-T\n",
    "    Q = np.random.binomial(R, 1/2) #n6+n8\n",
    "    n[i][5] = np.random.binomial(Q, 1.5/2)\n",
    "    n[i][7] = Q - n[i][5]\n",
    "    n[i][0] = R - Q\n",
    "    \n",
    "    H[i] = n[i][1]+n[i][2]+n[i][3] + 2*(n[i][4]+n[i][5]+n[i][6]+n[i][7]+n[i][8]+n[i][9])\n",
    "    I[i] = n[i][3]+n[i][7]+n[i][8] + 2*n[i][9]\n",
    "    J[i] = n[i][2]+n[i][5] + 2*n[i][6] + n[i][8]\n",
    "\n",
    "stats = np.zeros(M)\n",
    "order = np.zeros(M)\n",
    "\n",
    "for i in range(M):\n",
    "    order[i] = i\n",
    "    if H[i] == 0:\n",
    "        stats[i] = 0\n",
    "    else:\n",
    "        stats[i] = (2*((I[i]-J[i])**2))/H[i] + ((2*I[i] + 2*J[i] - H[i])**2)/H[i]\n",
    "\n",
    "x = np.argsort(stats)\n",
    "sorted_stats = sorted(stats, reverse=True)\n",
    "\n",
    "fig = plt.figure()\n",
    "plt.ylim(-1, max(stats)+2)\n",
    "plt.xlim(-2, 102)\n",
    "plt.plot(order, sorted_stats, marker=\"o\", markersize=2, color = \"red\", linestyle = \"None\")\n",
    "plt.axhline(23.0, color = \"black\", linestyle = \"-.\")\n",
    "plt.xlabel(\"rank\", fontsize = 18)\n",
    "plt.ylabel(\"chi^2-total\", fontsize = 18)\n",
    "fig.savefig(\"stats-total-small.png\")\n",
    "fig.savefig(\"fig/stats-total-small.eps\")"
   ]
  },
  {
   "cell_type": "code",
   "execution_count": 8,
   "metadata": {},
   "outputs": [
    {
     "name": "stderr",
     "output_type": "stream",
     "text": [
      "<ipython-input-4-93072744abec>:14: ComplexWarning: Casting complex values to real discards the imaginary part\n",
      "  theta[c] = math.asin(roots[i])\n"
     ]
    },
    {
     "name": "stdout",
     "output_type": "stream",
     "text": [
      "[ -6. -10.  -9. ...   5.   7.   9.]\n"
     ]
    }
   ],
   "source": [
    "cc = 23.0\n",
    "appx_shd = np.zeros(M)\n",
    "\n",
    "for i in range(M):\n",
    "    k = [int(n[i][0]), int(n[i][1]), int(n[i][2]), int(n[i][3]), int(n[i][4]), int(n[i][5]), int(n[i][6]), int(n[i][7]), int(n[i][8]), int(n[i][9])]\n",
    "    appx_shd[i] = appx_SHD_total(cc,k)\n",
    "\n",
    "print(appx_shd)"
   ]
  },
  {
   "cell_type": "code",
   "execution_count": 9,
   "metadata": {},
   "outputs": [],
   "source": [
    "def rankError_Lap(data,epsilon, K, N, M):\n",
    "    RE = 0\n",
    "    for j in range(50):\n",
    "        noisy_stats = lap_noise(np.array(data), epsilon, K, N, M)\n",
    "        noisy_rank = rankdata(-noisy_stats)\n",
    "        #print(noisy_rank)\n",
    "        for i in range(K):\n",
    "            RE += (noisy_rank[i]-i)\n",
    "    RE /= (K*50)\n",
    "    return RE"
   ]
  },
  {
   "cell_type": "code",
   "execution_count": 10,
   "metadata": {},
   "outputs": [],
   "source": [
    "def rankError_Exp(x, appx_shd, epsilon, K, N, M):\n",
    "    RE = 0\n",
    "    cc = 23.0\n",
    "    \n",
    "    #print(x)\n",
    "        \n",
    "    APPX = np.zeros(M)\n",
    "        \n",
    "    for j in range(50):\n",
    "            \n",
    "        for i in range(M):\n",
    "            APPX[i] = appx_shd[i]\n",
    "        \n",
    "        #print(APPX)\n",
    "        #print(SHD)\n",
    "        \n",
    "        appx_result = exp_mec(APPX, M, K, epsilon)\n",
    "        \n",
    "        for k in range(K):\n",
    "            for l in range(M):\n",
    "                if(appx_result[k] == x[M-1-l]):\n",
    "                    RE += math.fabs(k-l)\n",
    "                    break\n",
    "    RE /= (K*50)\n",
    "    return RE"
   ]
  },
  {
   "cell_type": "code",
   "execution_count": 11,
   "metadata": {},
   "outputs": [
    {
     "name": "stdout",
     "output_type": "stream",
     "text": [
      "[[2.127284e+03 2.423592e+03]\n",
      " [6.845580e+02 1.699684e+03]\n",
      " [1.636700e+02 1.388400e+02]\n",
      " [5.400000e+00 1.740000e+00]\n",
      " [2.004000e+00 1.392000e+00]\n",
      " [1.768000e+00 1.096000e+00]\n",
      " [1.572000e+00 1.048000e+00]]\n"
     ]
    }
   ],
   "source": [
    "K = 1\n",
    "N = 150\n",
    "M = 5000\n",
    "\n",
    "RE = np.zeros((7,2))\n",
    "sum_re = np.zeros((7,2))\n",
    "\n",
    "epsilon = [0.1, 0.5, 1.0, 2.0, 3.0, 4.0, 5.0]\n",
    "\n",
    "for j in range(5):\n",
    "    for i in range(7):\n",
    "        RE[i][0] = rankError_Lap(sorted_stats,epsilon[i],K,N,M)\n",
    "        RE[i][1] = rankError_Exp(x,appx_shd,epsilon[i],K,N,M)\n",
    "        sum_re[i] += RE[i]\n",
    "    #print(RE)\n",
    "\n",
    "RE = sum_re / 5\n",
    "print(RE)"
   ]
  },
  {
   "cell_type": "code",
   "execution_count": 12,
   "metadata": {},
   "outputs": [
    {
     "name": "stdout",
     "output_type": "stream",
     "text": [
      "[[2.315481e+03 2.434180e+03]\n",
      " [1.458386e+03 2.143270e+03]\n",
      " [7.208370e+02 1.686546e+03]\n",
      " [1.445290e+02 1.415680e+02]\n",
      " [3.953200e+01 1.816000e+00]\n",
      " [5.470000e+00 1.514000e+00]\n",
      " [2.712000e+00 1.368000e+00]]\n"
     ]
    }
   ],
   "source": [
    "K = 2\n",
    "N = 150\n",
    "M = 5000\n",
    "\n",
    "RE = np.zeros((7,2))\n",
    "sum_re = np.zeros((7,2))\n",
    "\n",
    "epsilon = [0.1, 0.5, 1.0, 2.0, 3.0, 4.0, 5.0]\n",
    "\n",
    "for j in range(5):\n",
    "    for i in range(7):\n",
    "        RE[i][0] = rankError_Lap(sorted_stats,epsilon[i],K,N,M)\n",
    "        RE[i][1] = rankError_Exp(x,appx_shd,epsilon[i],K,N,M)\n",
    "        sum_re[i] += RE[i]\n",
    "    #print(RE)\n",
    "\n",
    "RE = sum_re / 5\n",
    "print(RE)"
   ]
  },
  {
   "cell_type": "code",
   "execution_count": 13,
   "metadata": {},
   "outputs": [
    {
     "name": "stdout",
     "output_type": "stream",
     "text": [
      "[[2354.14       2448.708     ]\n",
      " [1743.63666667 2372.50266667]\n",
      " [1239.15533333 2061.52533333]\n",
      " [ 447.272      1092.90266667]\n",
      " [ 178.44133333  199.70266667]\n",
      " [  55.26133333   12.488     ]\n",
      " [  20.728         2.76533333]]\n"
     ]
    }
   ],
   "source": [
    "K = 3\n",
    "N = 150\n",
    "M = 5000\n",
    "\n",
    "RE = np.zeros((7,2))\n",
    "sum_re = np.zeros((7,2))\n",
    "\n",
    "epsilon = [0.1, 0.5, 1.0, 2.0, 3.0, 4.0, 5.0]\n",
    "\n",
    "for j in range(5):\n",
    "    for i in range(7):\n",
    "        RE[i][0] = rankError_Lap(sorted_stats,epsilon[i],K,N,M)\n",
    "        RE[i][1] = rankError_Exp(x,appx_shd,epsilon[i],K,N,M)\n",
    "        sum_re[i] += RE[i]\n",
    "    #print(RE)\n",
    "\n",
    "RE = sum_re / 5\n",
    "print(RE)"
   ]
  },
  {
   "cell_type": "code",
   "execution_count": 14,
   "metadata": {},
   "outputs": [
    {
     "name": "stdout",
     "output_type": "stream",
     "text": [
      "[[2431.4568 2468.6256]\n",
      " [2076.9192 2396.7712]\n",
      " [1660.1236 2207.5008]\n",
      " [1043.8476 1789.8968]\n",
      " [ 617.6384 1324.6992]\n",
      " [ 405.0324  673.8208]\n",
      " [ 239.3176  210.0592]]\n"
     ]
    }
   ],
   "source": [
    "K = 5\n",
    "N = 150\n",
    "M = 5000\n",
    "\n",
    "RE = np.zeros((7,2))\n",
    "sum_re = np.zeros((7,2))\n",
    "\n",
    "epsilon = [0.1, 0.5, 1.0, 2.0, 3.0, 4.0, 5.0]\n",
    "\n",
    "for j in range(5):\n",
    "    for i in range(7):\n",
    "        RE[i][0] = rankError_Lap(sorted_stats,epsilon[i],K,N,M)\n",
    "        RE[i][1] = rankError_Exp(x,appx_shd,epsilon[i],K,N,M)\n",
    "        sum_re[i] += RE[i]\n",
    "    #print(RE)\n",
    "\n",
    "RE = sum_re / 5\n",
    "print(RE)"
   ]
  },
  {
   "cell_type": "code",
   "execution_count": 15,
   "metadata": {},
   "outputs": [
    {
     "name": "stdout",
     "output_type": "stream",
     "text": [
      "[[2485.7756 2483.0272]\n",
      " [2309.8252 2429.3024]\n",
      " [2117.3152 2393.042 ]\n",
      " [1819.4404 2232.3672]\n",
      " [1567.3386 2059.1764]\n",
      " [1189.3682 1837.7336]\n",
      " [ 985.782  1637.9404]]\n"
     ]
    }
   ],
   "source": [
    "K = 10\n",
    "N = 150\n",
    "M = 5000\n",
    "\n",
    "RE = np.zeros((7,2))\n",
    "sum_re = np.zeros((7,2))\n",
    "\n",
    "epsilon = [0.1, 0.5, 1.0, 2.0, 3.0, 4.0, 5.0]\n",
    "\n",
    "for j in range(5):\n",
    "    for i in range(7):\n",
    "        RE[i][0] = rankError_Lap(sorted_stats,epsilon[i],K,N,M)\n",
    "        RE[i][1] = rankError_Exp(x,appx_shd,epsilon[i],K,N,M)\n",
    "        sum_re[i] += RE[i]\n",
    "    #print(RE)\n",
    "\n",
    "RE = sum_re / 5\n",
    "print(RE)"
   ]
  },
  {
   "cell_type": "code",
   "execution_count": null,
   "metadata": {},
   "outputs": [],
   "source": []
  }
 ],
 "metadata": {
  "kernelspec": {
   "display_name": "Python 3",
   "language": "python",
   "name": "python3"
  },
  "language_info": {
   "codemirror_mode": {
    "name": "ipython",
    "version": 3
   },
   "file_extension": ".py",
   "mimetype": "text/x-python",
   "name": "python",
   "nbconvert_exporter": "python",
   "pygments_lexer": "ipython3",
   "version": "3.8.3"
  }
 },
 "nbformat": 4,
 "nbformat_minor": 4
}
