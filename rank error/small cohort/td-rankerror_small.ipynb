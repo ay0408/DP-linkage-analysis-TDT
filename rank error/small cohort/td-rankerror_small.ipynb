{
 "cells": [
  {
   "cell_type": "code",
   "execution_count": 1,
   "metadata": {},
   "outputs": [],
   "source": [
    "import numpy as np\n",
    "import math\n",
    "from scipy import integrate\n",
    "import matplotlib.pyplot as plt\n",
    "import random\n",
    "import time\n",
    "from scipy.stats import rankdata"
   ]
  },
  {
   "cell_type": "code",
   "execution_count": 2,
   "metadata": {},
   "outputs": [],
   "source": [
    "def lap_noise(data, epsilon, K, N, M):\n",
    "    pri_data = data + np.random.laplace(loc = 0.0, scale = (2*K*16*(N-1)/N)/epsilon, size=data.shape)\n",
    "    \n",
    "    min = 10000\n",
    "    \n",
    "    for i in range(M):\n",
    "        if pri_data[i] > 0 and pri_data[i] < min:\n",
    "            min = pri_data[i]\n",
    "    \n",
    "    for i in range(M):\n",
    "        if pri_data[i] < 0:\n",
    "            pri_data[i] = min\n",
    "    \n",
    "    return pri_data"
   ]
  },
  {
   "cell_type": "code",
   "execution_count": 3,
   "metadata": {},
   "outputs": [],
   "source": [
    "def td(n):\n",
    "    h = n[1]+n[2]+n[3] + 2*(n[4]+n[5]+n[6]+n[7]+n[8]+n[9])\n",
    "    i = n[3]+n[7]+n[8] + 2*n[9]\n",
    "    j = n[2]+n[5] + 2*n[6] + n[8]\n",
    "    \n",
    "    if h == 0:\n",
    "        return 0\n",
    "    else:\n",
    "        return (2*((i-j)**2))/h\n",
    "\n",
    "def SHD_td(cc,n):\n",
    "    h = n[1]+n[2]+n[3] + 2*(n[4]+n[5]+n[6]+n[7]+n[8]+n[9])\n",
    "    i = n[3]+n[7]+n[8] + 2*n[9]\n",
    "    j = n[2]+n[5] + 2*n[6] + n[8]\n",
    "    T = td(n)\n",
    "    \n",
    "    d = np.zeros(2)\n",
    "    N = np.zeros(10)\n",
    "    \n",
    "    for k in range(10):\n",
    "        N[k] = n[k]\n",
    "    \n",
    "    if T < cc:\n",
    "        while T < cc:\n",
    "            if N[6] > 0: N[6] -= 1\n",
    "            elif N[5] > 0: N[5] -= 1\n",
    "            elif N[2] > 0: N[2] -= 1\n",
    "            elif N[4] > 0: N[4] -= 1\n",
    "            elif N[8] > 0: N[8] -= 1\n",
    "            elif N[1] > 0: N[1] -= 1\n",
    "            elif N[0] > 0: N[0] -= 1\n",
    "            elif N[7] > 0: N[7] -= 1\n",
    "            else: N[3] -= 1\n",
    "            N[9] += 1\n",
    "            \n",
    "            T = td(N)\n",
    "            d[0] -= 1\n",
    "        \n",
    "        T = td(n)\n",
    "        for k in range(10):\n",
    "            N[k] = n[k]\n",
    "        \n",
    "        while T < cc:\n",
    "            if N[9] > 0: N[9] -= 1\n",
    "            elif N[7] > 0: N[7] -= 1\n",
    "            elif N[3] > 0: N[3] -= 1\n",
    "            elif N[4] > 0: N[4] -= 1\n",
    "            elif N[8] > 0: N[8] -= 1\n",
    "            elif N[1] > 0: N[1] -= 1\n",
    "            elif N[0] > 0: N[0] -= 1\n",
    "            elif N[5] > 0: N[5] -= 1\n",
    "            else: N[2] -= 1\n",
    "            N[6] += 1\n",
    "            \n",
    "            T = td(N)\n",
    "            d[1] -= 1\n",
    "        \n",
    "        if d[0] > d[1]:\n",
    "            return d[0]\n",
    "        else:\n",
    "            return d[1]\n",
    "        \n",
    "    else:\n",
    "        step = 0\n",
    "        \n",
    "        for k in range(10):\n",
    "            N[k] = n[k]\n",
    "            \n",
    "        if i > j:\n",
    "            while T >= cc:\n",
    "                if N[9] > 0: N[9] -= 1\n",
    "                elif N[3] > 0: N[3] -= 1\n",
    "                elif N[7] > 0: N[7] -= 1\n",
    "                elif N[0] > 0: N[0] -= 1\n",
    "                elif N[1] > 0: N[1] -= 1\n",
    "                elif N[4] > 0: N[4] -= 1\n",
    "                elif N[8] > 0: N[8] -= 1\n",
    "                elif N[2] > 0: N[2] -= 1\n",
    "                else: N[5] -= 1\n",
    "                N[6] += 1\n",
    "                \n",
    "                T = td(N)\n",
    "                step += 1\n",
    "        else:\n",
    "            while T >= cc:\n",
    "                if N[6] > 0: N[6] -= 1\n",
    "                elif N[2] > 0: N[2] -= 1\n",
    "                elif N[5] > 0: N[5] -= 1\n",
    "                elif N[0] > 0: N[0] -= 1\n",
    "                elif N[1] > 0: N[1] -= 1\n",
    "                elif N[4] > 0: N[4] -= 1\n",
    "                elif N[8] > 0: N[8] -= 1\n",
    "                elif N[3] > 0: N[3] -= 1\n",
    "                else: N[7] -= 1\n",
    "                N[9] += 1\n",
    "                \n",
    "                T = td(N)\n",
    "                step += 1\n",
    "                \n",
    "        return step-1"
   ]
  },
  {
   "cell_type": "code",
   "execution_count": 4,
   "metadata": {},
   "outputs": [],
   "source": [
    "def appx_SHD_td(cc,n):\n",
    "    h = n[1]+n[2]+n[3] + 2*(n[4]+n[5]+n[6]+n[7]+n[8]+n[9])\n",
    "    i = n[3]+n[7]+n[8] + 2*n[9]\n",
    "    j = n[2]+n[5] + 2*n[6] + n[8]\n",
    "    T = td(n)\n",
    "    \n",
    "    if T < cc:\n",
    "        if h <= cc/2:\n",
    "            return -math.ceil((cc-h-math.fabs(i-j))/4)\n",
    "        else:\n",
    "            return -math.ceil((math.sqrt(h*cc/2)-math.fabs(i-j))/4)\n",
    "    else:\n",
    "        return math.ceil((math.fabs(i-j)-math.sqrt(h*cc/2))/4) - 1"
   ]
  },
  {
   "cell_type": "code",
   "execution_count": 5,
   "metadata": {},
   "outputs": [],
   "source": [
    "def random_num(pd):\n",
    "    dist = np.cumsum(pd).tolist()\n",
    "    dist[-1] = 1.0\n",
    "    num = np.random.rand()\n",
    "    dist.append(num)\n",
    "    return sorted(dist).index(num)\n",
    "\n",
    "def exp_mec(shd, m, K, epsilon):\n",
    "    S = np.zeros(K)\n",
    "    k = 0\n",
    "    \n",
    "    w = np.zeros(m)\n",
    "    p = np.zeros(m)\n",
    "    \n",
    "    while k < K:\n",
    "        sumw = 0\n",
    "        for i in range(m):\n",
    "            w[i] = math.exp(epsilon * shd[i] / (2*K))\n",
    "            sumw += w[i]\n",
    "        for i in range(m):\n",
    "            p[i] = w[i]/sumw\n",
    "        \n",
    "        x = random_num(p)\n",
    "        shd[x] = -1000000.0\n",
    "        S[k] = x\n",
    "        k += 1\n",
    "    \n",
    "    return S"
   ]
  },
  {
   "cell_type": "code",
   "execution_count": 6,
   "metadata": {},
   "outputs": [
    {
     "data": {
      "text/plain": [
       "Text(0, 0.5, 'chi^2-td')"
      ]
     },
     "execution_count": 6,
     "metadata": {},
     "output_type": "execute_result"
    },
    {
     "data": {
      "image/png": "[encoded data removed]",
      "text/plain": [
       "<Figure size 432x288 with 1 Axes>"
      ]
     },
     "metadata": {
      "needs_background": "light"
     },
     "output_type": "display_data"
    }
   ],
   "source": [
    "N = 150\n",
    "M = 5000\n",
    "H = np.zeros(M)\n",
    "I = np.zeros(M)\n",
    "J = np.zeros(M)\n",
    "\n",
    "n = np.zeros((M,10))\n",
    "\n",
    "for i in range(M-10):\n",
    "    for j in range(10):\n",
    "        S = 0\n",
    "        for k in range(j):\n",
    "            S += n[i][k]\n",
    "        n[i][j] = np.random.binomial(2*N-S, 1/(10-j))\n",
    "    H[i] = n[i][1]+n[i][2]+n[i][3] + 2*(n[i][4]+n[i][5]+n[i][6]+n[i][7]+n[i][8]+n[i][9])\n",
    "    I[i] = n[i][3]+n[i][7]+n[i][8] + 2*n[i][9]\n",
    "    J[i] = n[i][2]+n[i][5] + 2*n[i][6] + n[i][8]\n",
    "\n",
    "for i in range(M-10,M):\n",
    "    for j in range(10):\n",
    "        S = 0\n",
    "        for k in range(j):\n",
    "            S += n[i][k]\n",
    "        if j == 2 or j == 5 or j == 6:\n",
    "            n[i][j] = np.random.binomial(2*N-S, 1.6/(10-j))\n",
    "        else:\n",
    "            n[i][j] = np.random.binomial(2*N-S, 1/(10-j))\n",
    "    H[i] = n[i][1]+n[i][2]+n[i][3] + 2*(n[i][4]+n[i][5]+n[i][6]+n[i][7]+n[i][8]+n[i][9])\n",
    "    I[i] = n[i][3]+n[i][7]+n[i][8] + 2*n[i][9]\n",
    "    J[i] = n[i][2]+n[i][5] + 2*n[i][6] + n[i][8]\n",
    "\n",
    "stats = np.zeros(M)\n",
    "order = np.zeros(M)\n",
    "\n",
    "for i in range(M):\n",
    "    order[i] = i\n",
    "    if H[i] == 0:\n",
    "        stats[i] = 0\n",
    "    else:\n",
    "        stats[i] = (2*((I[i]-J[i])**2))/H[i]\n",
    "\n",
    "x = np.argsort(stats)\n",
    "sorted_stats = sorted(stats, reverse=True)\n",
    "\n",
    "fig = plt.figure()\n",
    "plt.ylim(-1, max(stats)+2)\n",
    "plt.xlim(-2, 102)\n",
    "plt.plot(order, sorted_stats, marker=\"o\", markersize=2, color = \"red\", linestyle = \"None\")\n",
    "plt.axhline(19.5, color = \"black\", linestyle = \"-.\")\n",
    "plt.xlabel(\"rank\", fontsize = 18)\n",
    "plt.ylabel(\"chi^2-td\", fontsize = 18)\n",
    "#fig.savefig(\"stats-td_small.png\")\n",
    "#fig.savefig(\"fig/stats-td-small.eps\")"
   ]
  },
  {
   "cell_type": "code",
   "execution_count": 7,
   "metadata": {},
   "outputs": [
    {
     "name": "stdout",
     "output_type": "stream",
     "text": [
      "[-13. -11. -16. ...   2.  10.   4.]\n",
      "[-13. -11. -16. ...   2.  10.   4.]\n"
     ]
    }
   ],
   "source": [
    "cc = 19.5\n",
    "appx_shd = np.zeros(M)\n",
    "shd = np.zeros(M)\n",
    "\n",
    "for i in range(M):\n",
    "    k = [int(n[i][0]), int(n[i][1]), int(n[i][2]), int(n[i][3]), int(n[i][4]), int(n[i][5]), int(n[i][6]), int(n[i][7]), int(n[i][8]), int(n[i][9])]\n",
    "    appx_shd[i] = appx_SHD_td(cc,k)\n",
    "    shd[i] = SHD_td(cc,k)\n",
    "\n",
    "print(appx_shd)\n",
    "print(shd)"
   ]
  },
  {
   "cell_type": "code",
   "execution_count": 8,
   "metadata": {},
   "outputs": [],
   "source": [
    "def rankError_Lap(data,epsilon, K, N, M):\n",
    "    RE = 0\n",
    "    for j in range(50):\n",
    "        noisy_stats = lap_noise(np.array(data), epsilon, K, N, M)\n",
    "        noisy_rank = rankdata(-noisy_stats)\n",
    "        #print(noisy_rank)\n",
    "        for i in range(K):\n",
    "            for j in range(M):\n",
    "                if noisy_rank[j] == i+1:\n",
    "                    RE += math.fabs(j-i)\n",
    "    RE /= (K*50)\n",
    "    return RE"
   ]
  },
  {
   "cell_type": "code",
   "execution_count": 9,
   "metadata": {},
   "outputs": [],
   "source": [
    "def rankError_Exp(x, appx_shd, shd, epsilon, K, N, M):\n",
    "    RE = np.zeros(2)\n",
    "    cc = 19.5\n",
    "    \n",
    "    #print(x)\n",
    "        \n",
    "    APPX = np.zeros(M)\n",
    "    SHD = np.zeros(M)\n",
    "        \n",
    "    for j in range(50):\n",
    "            \n",
    "        for i in range(M):\n",
    "            APPX[i] = appx_shd[i]\n",
    "            SHD[i] = shd[i]\n",
    "        \n",
    "        #print(APPX)\n",
    "        #print(SHD)\n",
    "        \n",
    "        appx_result = exp_mec(APPX, M, K, epsilon)\n",
    "        exact_result = exp_mec(SHD, M, K, epsilon)\n",
    "        #print(appx_result)\n",
    "        #print(rank[int(appx_result[0])])\n",
    "        #print(exact_result)\n",
    "        for k in range(K):\n",
    "            for l in range(M):\n",
    "                if(appx_result[k] == x[M-1-l]):\n",
    "                    RE[0] += math.fabs(k-l)\n",
    "                    break\n",
    "            for l in range(M):\n",
    "                if(exact_result[k] == x[M-1-l]):\n",
    "                    RE[1] += math.fabs(k-l)\n",
    "                    break\n",
    "    RE /= (K*50)\n",
    "    return RE"
   ]
  },
  {
   "cell_type": "code",
   "execution_count": 10,
   "metadata": {},
   "outputs": [
    {
     "name": "stdout",
     "output_type": "stream",
     "text": [
      "[[2.551988e+03 2.271728e+03 2.161972e+03]\n",
      " [2.443172e+03 1.094972e+03 1.209596e+03]\n",
      " [2.333464e+03 2.857200e+01 3.384800e+01]\n",
      " [2.299532e+03 5.440000e-01 4.800000e-01]\n",
      " [2.168952e+03 5.080000e-01 5.080000e-01]\n",
      " [1.579636e+03 4.960000e-01 4.720000e-01]\n",
      " [7.396120e+02 5.080000e-01 4.640000e-01]]\n"
     ]
    }
   ],
   "source": [
    "K = 1\n",
    "N = 150\n",
    "M = 5000\n",
    "\n",
    "RE = np.zeros((7,3))\n",
    "sum_re = np.zeros((7,3))\n",
    "\n",
    "epsilon = [0.1, 0.5, 1.0, 2.0, 3.0, 4.0, 5.0]\n",
    "\n",
    "for j in range(5):\n",
    "    for i in range(7):\n",
    "        RE[i][0] = rankError_Lap(sorted_stats,epsilon[i],K,N,M)\n",
    "        RE[i][1] = rankError_Exp(x,appx_shd,shd,epsilon[i],K,N,M)[0]\n",
    "        RE[i][2] = rankError_Exp(x,appx_shd,shd,epsilon[i],K,N,M)[1]\n",
    "        sum_re[i] += RE[i]\n",
    "    #print(RE)\n",
    "\n",
    "RE = sum_re / 5\n",
    "print(RE)"
   ]
  },
  {
   "cell_type": "code",
   "execution_count": 11,
   "metadata": {},
   "outputs": [
    {
     "name": "stdout",
     "output_type": "stream",
     "text": [
      "[[2.551568e+03 2.337366e+03 2.361286e+03]\n",
      " [2.548094e+03 1.933764e+03 1.993558e+03]\n",
      " [2.408352e+03 1.101228e+03 1.233348e+03]\n",
      " [2.395164e+03 3.565600e+01 4.161400e+01]\n",
      " [2.416486e+03 7.120000e-01 7.000000e-01]\n",
      " [2.356808e+03 5.900000e-01 5.200000e-01]\n",
      " [2.226848e+03 5.040000e-01 4.920000e-01]]\n"
     ]
    }
   ],
   "source": [
    "K = 2\n",
    "N = 150\n",
    "M = 5000\n",
    "\n",
    "RE = np.zeros((7,3))\n",
    "sum_re = np.zeros((7,3))\n",
    "\n",
    "epsilon = [0.1, 0.5, 1.0, 2.0, 3.0, 4.0, 5.0]\n",
    "\n",
    "for j in range(5):\n",
    "    for i in range(7):\n",
    "        RE[i][0] = rankError_Lap(sorted_stats,epsilon[i],K,N,M)\n",
    "        RE[i][1] = rankError_Exp(x,appx_shd,shd,epsilon[i],K,N,M)[0]\n",
    "        RE[i][2] = rankError_Exp(x,appx_shd,shd,epsilon[i],K,N,M)[1]\n",
    "        sum_re[i] += RE[i]\n",
    "    #print(RE)\n",
    "\n",
    "RE = sum_re / 5\n",
    "print(RE)"
   ]
  },
  {
   "cell_type": "code",
   "execution_count": 12,
   "metadata": {},
   "outputs": [
    {
     "name": "stdout",
     "output_type": "stream",
     "text": [
      "[[2.57706133e+03 2.47137467e+03 2.38862533e+03]\n",
      " [2.42707733e+03 2.20813333e+03 2.13095867e+03]\n",
      " [2.44967867e+03 1.65631733e+03 1.68574000e+03]\n",
      " [2.44407600e+03 6.36145333e+02 5.37582667e+02]\n",
      " [2.42151333e+03 8.70466667e+01 5.90613333e+01]\n",
      " [2.45707867e+03 4.92666667e+00 4.01866667e+00]\n",
      " [2.27485333e+03 2.14666667e+00 9.72000000e-01]]\n"
     ]
    }
   ],
   "source": [
    "K = 3\n",
    "N = 150\n",
    "M = 5000\n",
    "\n",
    "RE = np.zeros((7,3))\n",
    "sum_re = np.zeros((7,3))\n",
    "\n",
    "epsilon = [0.1, 0.5, 1.0, 2.0, 3.0, 4.0, 5.0]\n",
    "\n",
    "for j in range(5):\n",
    "    for i in range(7):\n",
    "        RE[i][0] = rankError_Lap(sorted_stats,epsilon[i],K,N,M)\n",
    "        RE[i][1] = rankError_Exp(x,appx_shd,shd,epsilon[i],K,N,M)[0]\n",
    "        RE[i][2] = rankError_Exp(x,appx_shd,shd,epsilon[i],K,N,M)[1]\n",
    "        sum_re[i] += RE[i]\n",
    "    #print(RE)\n",
    "\n",
    "RE = sum_re / 5\n",
    "print(RE)"
   ]
  },
  {
   "cell_type": "code",
   "execution_count": 13,
   "metadata": {},
   "outputs": [
    {
     "name": "stdout",
     "output_type": "stream",
     "text": [
      "[[2498.7408 2467.0432 2494.776 ]\n",
      " [2545.252  2288.1448 2248.9576]\n",
      " [2485.0672 2092.8656 2036.9368]\n",
      " [2400.4712 1552.0544 1495.2768]\n",
      " [2436.2808  819.6992  786.18  ]\n",
      " [2400.1936  309.0744  326.788 ]\n",
      " [2340.5776   95.4576  105.5728]]\n"
     ]
    }
   ],
   "source": [
    "K = 5\n",
    "N = 150\n",
    "M = 5000\n",
    "\n",
    "RE = np.zeros((7,3))\n",
    "sum_re = np.zeros((7,3))\n",
    "\n",
    "epsilon = [0.1, 0.5, 1.0, 2.0, 3.0, 4.0, 5.0]\n",
    "\n",
    "for j in range(5):\n",
    "    for i in range(7):\n",
    "        RE[i][0] = rankError_Lap(sorted_stats,epsilon[i],K,N,M)\n",
    "        RE[i][1] = rankError_Exp(x,appx_shd,shd,epsilon[i],K,N,M)[0]\n",
    "        RE[i][2] = rankError_Exp(x,appx_shd,shd,epsilon[i],K,N,M)[1]\n",
    "        sum_re[i] += RE[i]\n",
    "    #print(RE)\n",
    "\n",
    "RE = sum_re / 5\n",
    "print(RE)"
   ]
  },
  {
   "cell_type": "code",
   "execution_count": 14,
   "metadata": {},
   "outputs": [
    {
     "name": "stdout",
     "output_type": "stream",
     "text": [
      "[[2483.498  2501.8232 2478.7228]\n",
      " [2525.8144 2431.0312 2369.6532]\n",
      " [2487.1712 2273.6276 2268.0404]\n",
      " [2470.4388 2051.0928 2048.6012]\n",
      " [2476.0704 1816.444  1799.9852]\n",
      " [2434.3468 1520.4572 1485.4516]\n",
      " [2443.9176 1181.1208 1207.768 ]]\n"
     ]
    }
   ],
   "source": [
    "K = 10\n",
    "N = 150\n",
    "M = 5000\n",
    "\n",
    "RE = np.zeros((7,3))\n",
    "sum_re = np.zeros((7,3))\n",
    "\n",
    "epsilon = [0.1, 0.5, 1.0, 2.0, 3.0, 4.0, 5.0]\n",
    "\n",
    "for j in range(5):\n",
    "    for i in range(7):\n",
    "        RE[i][0] = rankError_Lap(sorted_stats,epsilon[i],K,N,M)\n",
    "        RE[i][1] = rankError_Exp(x,appx_shd,shd,epsilon[i],K,N,M)[0]\n",
    "        RE[i][2] = rankError_Exp(x,appx_shd,shd,epsilon[i],K,N,M)[1]\n",
    "        sum_re[i] += RE[i]\n",
    "    #print(RE)\n",
    "\n",
    "RE = sum_re / 5\n",
    "print(RE)"
   ]
  },
  {
   "cell_type": "code",
   "execution_count": null,
   "metadata": {},
   "outputs": [],
   "source": []
  }
 ],
 "metadata": {
  "kernelspec": {
   "display_name": "Python 3",
   "language": "python",
   "name": "python3"
  },
  "language_info": {
   "codemirror_mode": {
    "name": "ipython",
    "version": 3
   },
   "file_extension": ".py",
   "mimetype": "text/x-python",
   "name": "python",
   "nbconvert_exporter": "python",
   "pygments_lexer": "ipython3",
   "version": "3.9.0"
  }
 },
 "nbformat": 4,
 "nbformat_minor": 4
}
