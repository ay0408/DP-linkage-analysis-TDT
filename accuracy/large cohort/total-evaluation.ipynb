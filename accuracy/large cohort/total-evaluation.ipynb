{
 "cells": [
  {
   "cell_type": "code",
   "execution_count": 1,
   "metadata": {},
   "outputs": [],
   "source": [
    "import numpy as np\n",
    "import math\n",
    "from scipy import integrate\n",
    "import matplotlib.pyplot as plt\n",
    "import random\n",
    "import time\n",
    "from scipy.stats import rankdata"
   ]
  },
  {
   "cell_type": "code",
   "execution_count": 2,
   "metadata": {},
   "outputs": [],
   "source": [
    "def lap_noise(data, epsilon, K, N, M):\n",
    "    pri_data = data + np.random.laplace(loc = 0.0, scale = (K*(16*N-11)/N)/epsilon, size=data.shape)\n",
    "    \n",
    "    min = 10000\n",
    "    \n",
    "    for i in range(M):\n",
    "        if pri_data[i] > 0 and pri_data[i] < min:\n",
    "            min = pri_data[i]\n",
    "    \n",
    "    for i in range(M):\n",
    "        if pri_data[i] < 0:\n",
    "            pri_data[i] = min\n",
    "    \n",
    "    return pri_data"
   ]
  },
  {
   "cell_type": "code",
   "execution_count": 3,
   "metadata": {},
   "outputs": [],
   "source": [
    "def total(n):\n",
    "    h = n[1]+n[2]+n[3] + 2*(n[4]+n[5]+n[6]+n[7]+n[8]+n[9])\n",
    "    i = n[3]+n[7]+n[8] + 2*n[9]\n",
    "    j = n[2]+n[5] + 2*n[6] + n[8]\n",
    "    \n",
    "    if h == 0:\n",
    "        return 0\n",
    "    else:\n",
    "        return (4*((i-h/4)**2) + 2*((i+j-h/2)**2) + 4*((j-h/4)**2))/h"
   ]
  },
  {
   "cell_type": "code",
   "execution_count": 4,
   "metadata": {},
   "outputs": [],
   "source": [
    "def f(x, y, theta):\n",
    "    t = (x - math.sqrt(2)*math.cos(theta))**2 + (y - math.sin(theta))**2\n",
    "    return math.sqrt(t)\n",
    "\n",
    "def eDistance(x,y):\n",
    "    if x != 0:\n",
    "        roots = np.roots([4, 4*y, 8*x*x + y*y -4, -4*y, -y*y])\n",
    "        #print(roots)\n",
    "        theta = np.zeros(9)\n",
    "        theta[0] = 0\n",
    "        c = 1\n",
    "        for i in range(4):\n",
    "            if roots[i] >= -1 and roots[i] <= 1:\n",
    "                theta[c] = math.asin(roots[i])\n",
    "                if theta[c] >= 0:\n",
    "                    theta[c+1] = math.pi - theta[c]\n",
    "                else:\n",
    "                    theta[c+1] = - math.pi - theta[c]\n",
    "                c += 2\n",
    "        #print(theta)\n",
    "        \n",
    "        distance = 1000000000\n",
    "        for j in range(c):\n",
    "            #print(f(x,y,theta[j]))\n",
    "            if f(x,y,theta[j]) < distance:\n",
    "                distance = f(x,y,theta[j])\n",
    "                \n",
    "    else:\n",
    "        if y > 0:\n",
    "            distance = math.fabs(1-y)\n",
    "        else:\n",
    "            distance = math.fabs(-1-y)\n",
    "    return distance"
   ]
  },
  {
   "cell_type": "code",
   "execution_count": 5,
   "metadata": {},
   "outputs": [],
   "source": [
    "def appx_SHD_total(cc,n):\n",
    "    h = n[1]+n[2]+n[3] + 2*(n[4]+n[5]+n[6]+n[7]+n[8]+n[9])\n",
    "    i = n[3]+n[7]+n[8] + 2*n[9]\n",
    "    j = n[2]+n[5] + 2*n[6] + n[8]\n",
    "    T = total(n)\n",
    "    \n",
    "    if h <= cc:\n",
    "        s = 2*(i-j)/cc\n",
    "        t = 2*(i+j-cc/2)/cc\n",
    "        d = eDistance(s,t)\n",
    "        if T < cc:\n",
    "            return -math.ceil((math.sqrt(2)-1)*(cc-h)/(2*math.sqrt(2)) + d*cc/8)\n",
    "        else:\n",
    "            return math.ceil((math.sqrt(2)-1)*(cc-h)/(2*math.sqrt(2)) + d*cc/8)-1\n",
    "    else:\n",
    "        s = 2*(i-j)/math.sqrt(h*cc)\n",
    "        t = 2*(i+j-h/2)/math.sqrt(h*cc)\n",
    "        d = eDistance(s,t)\n",
    "        if T < cc:\n",
    "            return -math.ceil(d*math.sqrt(h*cc)/8)\n",
    "        else:\n",
    "            return math.ceil(d*math.sqrt(h*cc)/8)-1"
   ]
  },
  {
   "cell_type": "code",
   "execution_count": 6,
   "metadata": {},
   "outputs": [],
   "source": [
    "def random_num(pd):\n",
    "    dist = np.cumsum(pd).tolist()\n",
    "    dist[-1] = 1.0\n",
    "    num = np.random.rand()\n",
    "    dist.append(num)\n",
    "    return sorted(dist).index(num)\n",
    "\n",
    "def exp_mec(shd, m, K, epsilon):\n",
    "    S = np.zeros(K)\n",
    "    k = 0\n",
    "    \n",
    "    w = np.zeros(m)\n",
    "    p = np.zeros(m)\n",
    "    \n",
    "    while k < K:\n",
    "        sumw = 0\n",
    "        for i in range(m):\n",
    "            w[i] = math.exp(epsilon * shd[i] / (2*K))\n",
    "            sumw += w[i]\n",
    "        for i in range(m):\n",
    "            p[i] = w[i]/sumw\n",
    "        \n",
    "        x = random_num(p)\n",
    "        shd[x] = -1000000.0\n",
    "        S[k] = x\n",
    "        k += 1\n",
    "    \n",
    "    return S"
   ]
  },
  {
   "cell_type": "code",
   "execution_count": 7,
   "metadata": {},
   "outputs": [
    {
     "data": {
      "image/png": "[encoded data removed]",
      "text/plain": [
       "<Figure size 432x288 with 1 Axes>"
      ]
     },
     "metadata": {
      "needs_background": "light"
     },
     "output_type": "display_data"
    }
   ],
   "source": [
    "N = 5000\n",
    "M = 1000000\n",
    "H = np.zeros(M)\n",
    "I = np.zeros(M)\n",
    "J = np.zeros(M)\n",
    "\n",
    "n = np.zeros((M,10))\n",
    "\n",
    "for i in range(M-10):\n",
    "    n[i][4] = np.random.binomial(2*N, 1/5)\n",
    "    S = np.random.binomial(2*N-n[i][4], 1/4) #n7+n9+n10\n",
    "    P = np.random.binomial(S, 1/2) #n7+n10\n",
    "    n[i][6] = np.random.binomial(P, 1/2)\n",
    "    n[i][9] = P - n[i][6]\n",
    "    n[i][8] = S - P\n",
    "    n[i][1] = np.random.binomial(2*N-n[i][4]-S, 1/3)\n",
    "    T = np.random.binomial(2*N-n[i][4]-n[i][1]-S, 1/2) #n3+n4\n",
    "    n[i][2] = np.random.binomial(T, 1/2)\n",
    "    n[i][3] = T - n[i][2]\n",
    "    R = 2*N-n[i][4]-n[i][1]-S-T\n",
    "    Q = np.random.binomial(R, 1/2) #n6+n8\n",
    "    n[i][5] = np.random.binomial(Q, 1/2)\n",
    "    n[i][7] = Q - n[i][5]\n",
    "    n[i][0] = R - Q\n",
    "    \n",
    "    H[i] = n[i][1]+n[i][2]+n[i][3] + 2*(n[i][4]+n[i][5]+n[i][6]+n[i][7]+n[i][8]+n[i][9])\n",
    "    I[i] = n[i][3]+n[i][7]+n[i][8] + 2*n[i][9]\n",
    "    J[i] = n[i][2]+n[i][5] + 2*n[i][6] + n[i][8]\n",
    "    \n",
    "for i in range(M-10,M):\n",
    "    n[i][4] = np.random.binomial(2*N, 1.1/5)\n",
    "    S = np.random.binomial(2*N-n[i][4], 1/4) #n7+n9+n10\n",
    "    P = np.random.binomial(S, 1/2) #n7+n10\n",
    "    n[i][6] = np.random.binomial(P, 1.1/2)\n",
    "    n[i][9] = P - n[i][6]\n",
    "    n[i][8] = S - P\n",
    "    n[i][1] = np.random.binomial(2*N-n[i][4]-S, 1.1/3)\n",
    "    T = np.random.binomial(2*N-n[i][4]-n[i][1]-S, 1/2) #n3+n4\n",
    "    n[i][2] = np.random.binomial(T, 1.1/2)\n",
    "    n[i][3] = T - n[i][2]\n",
    "    R = 2*N-n[i][4]-n[i][1]-S-T\n",
    "    Q = np.random.binomial(R, 1/2) #n6+n8\n",
    "    n[i][5] = np.random.binomial(Q, 1.1/2)\n",
    "    n[i][7] = Q - n[i][5]\n",
    "    n[i][0] = R - Q\n",
    "    \n",
    "    H[i] = n[i][1]+n[i][2]+n[i][3] + 2*(n[i][4]+n[i][5]+n[i][6]+n[i][7]+n[i][8]+n[i][9])\n",
    "    I[i] = n[i][3]+n[i][7]+n[i][8] + 2*n[i][9]\n",
    "    J[i] = n[i][2]+n[i][5] + 2*n[i][6] + n[i][8]\n",
    "\n",
    "stats = np.zeros(M)\n",
    "order = np.zeros(M)\n",
    "\n",
    "for i in range(M):\n",
    "    order[i] = i\n",
    "    if H[i] == 0:\n",
    "        stats[i] = 0\n",
    "    else:\n",
    "        stats[i] = (2*((I[i]-J[i])**2))/H[i] + ((2*I[i] + 2*J[i] - H[i])**2)/H[i]\n",
    "\n",
    "x = np.argsort(stats)\n",
    "sorted_stats = sorted(stats, reverse=True)\n",
    "\n",
    "fig = plt.figure()\n",
    "plt.ylim(-1, max(stats)+2)\n",
    "plt.xlim(-2, 102)\n",
    "plt.plot(order, sorted_stats, marker=\"o\", markersize=2, color = \"red\", linestyle = \"None\")\n",
    "plt.axhline(33.6, color = \"black\", linestyle = \"-.\")\n",
    "plt.xlabel(\"rank\", fontsize = 18)\n",
    "plt.ylabel(\"chi^2-total\", fontsize = 18)\n",
    "fig.savefig(\"stats-total.png\")\n",
    "fig.savefig(\"fig/stats-total.eps\")"
   ]
  },
  {
   "cell_type": "code",
   "execution_count": 8,
   "metadata": {},
   "outputs": [
    {
     "name": "stderr",
     "output_type": "stream",
     "text": [
      "<ipython-input-4-93072744abec>:14: ComplexWarning: Casting complex values to real discards the imaginary part\n",
      "  theta[c] = math.asin(roots[i])\n"
     ]
    },
    {
     "name": "stdout",
     "output_type": "stream",
     "text": [
      "[-43. -73. -61. ...  83.  49.  86.]\n"
     ]
    }
   ],
   "source": [
    "cc = 33.6\n",
    "appx_shd = np.zeros(M)\n",
    "\n",
    "for i in range(M):\n",
    "    k = [int(n[i][0]), int(n[i][1]), int(n[i][2]), int(n[i][3]), int(n[i][4]), int(n[i][5]), int(n[i][6]), int(n[i][7]), int(n[i][8]), int(n[i][9])]\n",
    "    appx_shd[i] = appx_SHD_total(cc,k)\n",
    "\n",
    "print(appx_shd)"
   ]
  },
  {
   "cell_type": "code",
   "execution_count": 9,
   "metadata": {},
   "outputs": [],
   "source": [
    "def evaluation_Lap(data,epsilon, K, N, M):\n",
    "    correct = 0\n",
    "    for j in range(50):\n",
    "        noisy_stats = lap_noise(np.array(data), epsilon, K, N, M)\n",
    "        noisy_rank = rankdata(-noisy_stats)\n",
    "        #print(noisy_rank)\n",
    "        for i in range(K):\n",
    "            if noisy_rank[i] <= K:\n",
    "                correct += 1\n",
    "        #print(correct)\n",
    "    accuracy = correct/(K*50)\n",
    "    return accuracy"
   ]
  },
  {
   "cell_type": "code",
   "execution_count": 10,
   "metadata": {},
   "outputs": [],
   "source": [
    "def evaluation_Exp(x, appx_shd, epsilon, K, N, M):\n",
    "    accuracy = 0\n",
    "    correct = 0\n",
    "    cc = 33.6\n",
    "    \n",
    "    true = np.zeros(K)\n",
    "    for i in range(K):\n",
    "        true[i] = x[M-1-i]\n",
    "        \n",
    "    APPX = np.zeros(M)\n",
    "        \n",
    "    for j in range(50):\n",
    "            \n",
    "        for i in range(M):\n",
    "            APPX[i] = appx_shd[i]\n",
    "            \n",
    "        #print(APPX)\n",
    "        \n",
    "        appx_result = exp_mec(APPX, M, K, epsilon)\n",
    "        \n",
    "        for k in range(K):\n",
    "            for l in range(K):\n",
    "                if appx_result[k] == true[l]:\n",
    "                    correct += 1\n",
    "        #print(correct)\n",
    "    accuracy = correct/(K*50)\n",
    "    return accuracy"
   ]
  },
  {
   "cell_type": "code",
   "execution_count": 11,
   "metadata": {},
   "outputs": [
    {
     "name": "stdout",
     "output_type": "stream",
     "text": [
      "[[0.   0.02]\n",
      " [0.   1.  ]\n",
      " [0.   1.  ]\n",
      " [0.94 1.  ]\n",
      " [0.98 1.  ]\n",
      " [1.   1.  ]\n",
      " [1.   1.  ]]\n",
      "[[0.   0.  ]\n",
      " [0.   0.98]\n",
      " [0.   1.  ]\n",
      " [0.8  1.  ]\n",
      " [0.98 1.  ]\n",
      " [1.   1.  ]\n",
      " [1.   1.  ]]\n",
      "[[0.   0.  ]\n",
      " [0.   0.92]\n",
      " [0.   1.  ]\n",
      " [0.78 1.  ]\n",
      " [0.96 1.  ]\n",
      " [1.   1.  ]\n",
      " [1.   1.  ]]\n",
      "[[0.   0.  ]\n",
      " [0.   1.  ]\n",
      " [0.   1.  ]\n",
      " [0.82 1.  ]\n",
      " [0.98 1.  ]\n",
      " [0.98 1.  ]\n",
      " [1.   1.  ]]\n"
     ]
    },
    {
     "name": "stderr",
     "output_type": "stream",
     "text": [
      "The PostScript backend does not support transparency; partially transparent artists will be rendered opaque.\n",
      "The PostScript backend does not support transparency; partially transparent artists will be rendered opaque.\n"
     ]
    },
    {
     "name": "stdout",
     "output_type": "stream",
     "text": [
      "[[0.   0.  ]\n",
      " [0.   1.  ]\n",
      " [0.02 1.  ]\n",
      " [0.86 1.  ]\n",
      " [0.98 1.  ]\n",
      " [1.   1.  ]\n",
      " [1.   1.  ]]\n"
     ]
    },
    {
     "data": {
      "image/png": "[encoded data removed]",
      "text/plain": [
       "<Figure size 432x288 with 1 Axes>"
      ]
     },
     "metadata": {
      "needs_background": "light"
     },
     "output_type": "display_data"
    }
   ],
   "source": [
    "K = 1\n",
    "N = 5000\n",
    "M = 1000000\n",
    "\n",
    "accuracy = np.zeros((7,2))\n",
    "max_acc = np.zeros((7,2))\n",
    "min_acc = np.ones((7,2))\n",
    "sum_acc = np.zeros((7,2))\n",
    "\n",
    "epsilon = [0.1, 0.5, 1.0, 2.0, 3.0, 4.0, 5.0]\n",
    "\n",
    "for j in range(5):\n",
    "    for i in range(7):\n",
    "        accuracy[i][0] = evaluation_Lap(sorted_stats,epsilon[i],K,N,M)\n",
    "        accuracy[i][1] = evaluation_Exp(x, appx_shd, epsilon[i],K,N,M)\n",
    "        \n",
    "        if accuracy[i][0] > max_acc[i][0]:\n",
    "            max_acc[i][0] = accuracy[i][0]\n",
    "        if accuracy[i][0] < min_acc[i][0]:\n",
    "            min_acc[i][0] = accuracy[i][0]\n",
    "        if accuracy[i][1] > max_acc[i][1]:\n",
    "            max_acc[i][1] = accuracy[i][1]\n",
    "        if accuracy[i][1] < min_acc[i][1]:\n",
    "            min_acc[i][1] = accuracy[i][1]\n",
    "        sum_acc[i][0] += accuracy[i][0]\n",
    "        sum_acc[i][1] += accuracy[i][1]\n",
    "    print(accuracy)\n",
    "\n",
    "accuracy = sum_acc / 5\n",
    "\n",
    "y_err = np.zeros((2,7,2))\n",
    "\n",
    "y_err[0,:,0] = accuracy[:,0] - min_acc[:,0]\n",
    "y_err[1,:,0] = max_acc[:,0] - accuracy[:,0]\n",
    "y_err[0,:,1] = accuracy[:,1] - min_acc[:,1]\n",
    "y_err[1,:,1] = max_acc[:,1] - accuracy[:,1]\n",
    "\n",
    "fig = plt.figure()\n",
    "plt.ylim(-0.05, 1.05)\n",
    "plt.xlim(-0.1, 5.1)\n",
    "plt.errorbar(epsilon, accuracy[:,0], yerr = y_err[:,:,0], capsize=5, fmt='o', ecolor='green', markeredgecolor = \"green\", color='green')\n",
    "plt.plot(epsilon, accuracy[:,0], marker=\"o\", markersize=5, color = \"green\", linestyle = \"-\", label = \"Laplace\")\n",
    "plt.errorbar(epsilon, accuracy[:,1], yerr = y_err[:,:,1], capsize=5, fmt='v', ecolor='blue', markeredgecolor = \"blue\", color='blue')\n",
    "plt.plot(epsilon, accuracy[:,1], marker=\"v\", markersize=5, color = \"blue\", linestyle = \"--\", label = \"Exp.appx\")\n",
    "plt.legend(fontsize = 18)\n",
    "plt.xlabel(\"epsilon\", fontsize = 18)\n",
    "plt.ylabel(\"accuracy\", fontsize = 18)\n",
    "fig.savefig(\"evaluation_total_K=1.png\")\n",
    "fig.savefig(\"fig/evaluation_total_K=1.eps\")"
   ]
  },
  {
   "cell_type": "code",
   "execution_count": 12,
   "metadata": {},
   "outputs": [
    {
     "name": "stdout",
     "output_type": "stream",
     "text": [
      "[[0.   0.  ]\n",
      " [0.   0.72]\n",
      " [0.   0.77]\n",
      " [0.01 0.89]\n",
      " [0.21 0.96]\n",
      " [0.71 0.98]\n",
      " [0.79 1.  ]]\n",
      "[[0.   0.  ]\n",
      " [0.   0.63]\n",
      " [0.   0.79]\n",
      " [0.   0.88]\n",
      " [0.2  0.96]\n",
      " [0.63 0.95]\n",
      " [0.87 1.  ]]\n",
      "[[0.   0.  ]\n",
      " [0.   0.76]\n",
      " [0.   0.87]\n",
      " [0.01 0.86]\n",
      " [0.23 0.95]\n",
      " [0.64 0.98]\n",
      " [0.78 0.99]]\n",
      "[[0.   0.  ]\n",
      " [0.   0.82]\n",
      " [0.   0.79]\n",
      " [0.   0.89]\n",
      " [0.14 1.  ]\n",
      " [0.7  0.97]\n",
      " [0.82 0.98]]\n"
     ]
    },
    {
     "name": "stderr",
     "output_type": "stream",
     "text": [
      "The PostScript backend does not support transparency; partially transparent artists will be rendered opaque.\n",
      "The PostScript backend does not support transparency; partially transparent artists will be rendered opaque.\n"
     ]
    },
    {
     "name": "stdout",
     "output_type": "stream",
     "text": [
      "[[0.   0.  ]\n",
      " [0.   0.72]\n",
      " [0.   0.86]\n",
      " [0.   0.9 ]\n",
      " [0.18 0.98]\n",
      " [0.68 0.98]\n",
      " [0.87 1.  ]]\n"
     ]
    },
    {
     "data": {
      "image/png": "[encoded data removed]",
      "text/plain": [
       "<Figure size 432x288 with 1 Axes>"
      ]
     },
     "metadata": {
      "needs_background": "light"
     },
     "output_type": "display_data"
    }
   ],
   "source": [
    "K = 2\n",
    "N = 5000\n",
    "M = 1000000\n",
    "\n",
    "accuracy = np.zeros((7,2))\n",
    "max_acc = np.zeros((7,2))\n",
    "min_acc = np.ones((7,2))\n",
    "sum_acc = np.zeros((7,2))\n",
    "\n",
    "epsilon = [0.1, 0.5, 1.0, 2.0, 3.0, 4.0, 5.0]\n",
    "\n",
    "for j in range(5):\n",
    "    for i in range(7):\n",
    "        accuracy[i][0] = evaluation_Lap(sorted_stats,epsilon[i],K,N,M)\n",
    "        accuracy[i][1] = evaluation_Exp(x, appx_shd, epsilon[i],K,N,M)\n",
    "        \n",
    "        if accuracy[i][0] > max_acc[i][0]:\n",
    "            max_acc[i][0] = accuracy[i][0]\n",
    "        if accuracy[i][0] < min_acc[i][0]:\n",
    "            min_acc[i][0] = accuracy[i][0]\n",
    "        if accuracy[i][1] > max_acc[i][1]:\n",
    "            max_acc[i][1] = accuracy[i][1]\n",
    "        if accuracy[i][1] < min_acc[i][1]:\n",
    "            min_acc[i][1] = accuracy[i][1]\n",
    "        sum_acc[i][0] += accuracy[i][0]\n",
    "        sum_acc[i][1] += accuracy[i][1]\n",
    "    print(accuracy)\n",
    "\n",
    "accuracy = sum_acc / 5\n",
    "\n",
    "y_err = np.zeros((2,7,2))\n",
    "\n",
    "y_err[0,:,0] = accuracy[:,0] - min_acc[:,0]\n",
    "y_err[1,:,0] = max_acc[:,0] - accuracy[:,0]\n",
    "y_err[0,:,1] = accuracy[:,1] - min_acc[:,1]\n",
    "y_err[1,:,1] = max_acc[:,1] - accuracy[:,1]\n",
    "\n",
    "fig = plt.figure()\n",
    "plt.ylim(-0.05, 1.05)\n",
    "plt.xlim(-0.1, 5.1)\n",
    "plt.errorbar(epsilon, accuracy[:,0], yerr = y_err[:,:,0], capsize=5, fmt='o', ecolor='green', markeredgecolor = \"green\", color='green')\n",
    "plt.plot(epsilon, accuracy[:,0], marker=\"o\", markersize=5, color = \"green\", linestyle = \"-\", label = \"Laplace\")\n",
    "plt.errorbar(epsilon, accuracy[:,1], yerr = y_err[:,:,1], capsize=5, fmt='v', ecolor='blue', markeredgecolor = \"blue\", color='blue')\n",
    "plt.plot(epsilon, accuracy[:,1], marker=\"v\", markersize=5, color = \"blue\", linestyle = \"--\", label = \"Exp.appx\")\n",
    "plt.legend(fontsize = 18)\n",
    "plt.xlabel(\"epsilon\", fontsize = 18)\n",
    "plt.ylabel(\"accuracy\", fontsize = 18)\n",
    "fig.savefig(\"evaluation_total_K=2.png\")\n",
    "fig.savefig(\"fig/evaluation_total_K=2.eps\")"
   ]
  },
  {
   "cell_type": "code",
   "execution_count": 13,
   "metadata": {},
   "outputs": [
    {
     "name": "stdout",
     "output_type": "stream",
     "text": [
      "[[0.         0.        ]\n",
      " [0.         0.41333333]\n",
      " [0.         0.93333333]\n",
      " [0.         0.99333333]\n",
      " [0.01333333 1.        ]\n",
      " [0.08       1.        ]\n",
      " [0.33333333 1.        ]]\n",
      "[[0.         0.        ]\n",
      " [0.         0.42      ]\n",
      " [0.         0.91333333]\n",
      " [0.00666667 0.99333333]\n",
      " [0.         1.        ]\n",
      " [0.07333333 1.        ]\n",
      " [0.34666667 1.        ]]\n",
      "[[0.         0.        ]\n",
      " [0.         0.42666667]\n",
      " [0.         0.91333333]\n",
      " [0.         1.        ]\n",
      " [0.00666667 1.        ]\n",
      " [0.06666667 1.        ]\n",
      " [0.35333333 1.        ]]\n",
      "[[0.         0.        ]\n",
      " [0.         0.45333333]\n",
      " [0.         0.91333333]\n",
      " [0.         0.99333333]\n",
      " [0.         1.        ]\n",
      " [0.04       1.        ]\n",
      " [0.31333333 1.        ]]\n"
     ]
    },
    {
     "name": "stderr",
     "output_type": "stream",
     "text": [
      "The PostScript backend does not support transparency; partially transparent artists will be rendered opaque.\n",
      "The PostScript backend does not support transparency; partially transparent artists will be rendered opaque.\n"
     ]
    },
    {
     "name": "stdout",
     "output_type": "stream",
     "text": [
      "[[0.         0.        ]\n",
      " [0.         0.46      ]\n",
      " [0.         0.92666667]\n",
      " [0.         0.98      ]\n",
      " [0.01333333 1.        ]\n",
      " [0.08       1.        ]\n",
      " [0.32       1.        ]]\n"
     ]
    },
    {
     "data": {
      "image/png": "[encoded data removed]",
      "text/plain": [
       "<Figure size 432x288 with 1 Axes>"
      ]
     },
     "metadata": {
      "needs_background": "light"
     },
     "output_type": "display_data"
    }
   ],
   "source": [
    "K = 3\n",
    "N = 5000\n",
    "M = 1000000\n",
    "\n",
    "accuracy = np.zeros((7,2))\n",
    "max_acc = np.zeros((7,2))\n",
    "min_acc = np.ones((7,2))\n",
    "sum_acc = np.zeros((7,2))\n",
    "\n",
    "epsilon = [0.1, 0.5, 1.0, 2.0, 3.0, 4.0, 5.0]\n",
    "\n",
    "for j in range(5):\n",
    "    for i in range(7):\n",
    "        accuracy[i][0] = evaluation_Lap(sorted_stats,epsilon[i],K,N,M)\n",
    "        accuracy[i][1] = evaluation_Exp(x, appx_shd, epsilon[i],K,N,M)\n",
    "        \n",
    "        if accuracy[i][0] > max_acc[i][0]:\n",
    "            max_acc[i][0] = accuracy[i][0]\n",
    "        if accuracy[i][0] < min_acc[i][0]:\n",
    "            min_acc[i][0] = accuracy[i][0]\n",
    "        if accuracy[i][1] > max_acc[i][1]:\n",
    "            max_acc[i][1] = accuracy[i][1]\n",
    "        if accuracy[i][1] < min_acc[i][1]:\n",
    "            min_acc[i][1] = accuracy[i][1]\n",
    "        sum_acc[i][0] += accuracy[i][0]\n",
    "        sum_acc[i][1] += accuracy[i][1]\n",
    "    print(accuracy)\n",
    "\n",
    "accuracy = sum_acc / 5\n",
    "\n",
    "y_err = np.zeros((2,7,2))\n",
    "\n",
    "y_err[0,:,0] = accuracy[:,0] - min_acc[:,0]\n",
    "y_err[1,:,0] = max_acc[:,0] - accuracy[:,0]\n",
    "y_err[0,:,1] = accuracy[:,1] - min_acc[:,1]\n",
    "y_err[1,:,1] = max_acc[:,1] - accuracy[:,1]\n",
    "\n",
    "fig = plt.figure()\n",
    "plt.ylim(-0.05, 1.05)\n",
    "plt.xlim(-0.1, 5.1)\n",
    "plt.errorbar(epsilon, accuracy[:,0], yerr = y_err[:,:,0], capsize=5, fmt='o', ecolor='green', markeredgecolor = \"green\", color='green')\n",
    "plt.plot(epsilon, accuracy[:,0], marker=\"o\", markersize=5, color = \"green\", linestyle = \"-\", label = \"Laplace\")\n",
    "plt.errorbar(epsilon, accuracy[:,1], yerr = y_err[:,:,1], capsize=5, fmt='v', ecolor='blue', markeredgecolor = \"blue\", color='blue')\n",
    "plt.plot(epsilon, accuracy[:,1], marker=\"v\", markersize=5, color = \"blue\", linestyle = \"--\", label = \"Exp.appx\")\n",
    "plt.legend(fontsize = 18)\n",
    "plt.xlabel(\"epsilon\", fontsize = 18)\n",
    "plt.ylabel(\"accuracy\", fontsize = 18)\n",
    "fig.savefig(\"evaluation_total_K=3.png\")\n",
    "fig.savefig(\"fig/evaluation_total_K=3.eps\")"
   ]
  },
  {
   "cell_type": "code",
   "execution_count": 14,
   "metadata": {},
   "outputs": [
    {
     "name": "stdout",
     "output_type": "stream",
     "text": [
      "[[0.    0.   ]\n",
      " [0.    0.   ]\n",
      " [0.    0.736]\n",
      " [0.    0.876]\n",
      " [0.    0.916]\n",
      " [0.004 0.916]\n",
      " [0.004 0.94 ]]\n",
      "[[0.    0.   ]\n",
      " [0.    0.004]\n",
      " [0.    0.7  ]\n",
      " [0.    0.856]\n",
      " [0.    0.904]\n",
      " [0.    0.9  ]\n",
      " [0.    0.948]]\n",
      "[[0.    0.   ]\n",
      " [0.    0.008]\n",
      " [0.    0.704]\n",
      " [0.    0.896]\n",
      " [0.    0.876]\n",
      " [0.008 0.92 ]\n",
      " [0.004 0.94 ]]\n",
      "[[0.    0.   ]\n",
      " [0.    0.008]\n",
      " [0.    0.68 ]\n",
      " [0.    0.856]\n",
      " [0.    0.892]\n",
      " [0.    0.908]\n",
      " [0.012 0.928]]\n"
     ]
    },
    {
     "name": "stderr",
     "output_type": "stream",
     "text": [
      "The PostScript backend does not support transparency; partially transparent artists will be rendered opaque.\n",
      "The PostScript backend does not support transparency; partially transparent artists will be rendered opaque.\n"
     ]
    },
    {
     "name": "stdout",
     "output_type": "stream",
     "text": [
      "[[0.    0.   ]\n",
      " [0.    0.012]\n",
      " [0.    0.712]\n",
      " [0.    0.876]\n",
      " [0.    0.912]\n",
      " [0.    0.924]\n",
      " [0.004 0.928]]\n"
     ]
    },
    {
     "data": {
      "image/png": "[encoded data removed]",
      "text/plain": [
       "<Figure size 432x288 with 1 Axes>"
      ]
     },
     "metadata": {
      "needs_background": "light"
     },
     "output_type": "display_data"
    }
   ],
   "source": [
    "K = 5\n",
    "N = 5000\n",
    "M = 1000000\n",
    "\n",
    "accuracy = np.zeros((7,2))\n",
    "max_acc = np.zeros((7,2))\n",
    "min_acc = np.ones((7,2))\n",
    "sum_acc = np.zeros((7,2))\n",
    "\n",
    "epsilon = [0.1, 0.5, 1.0, 2.0, 3.0, 4.0, 5.0]\n",
    "\n",
    "for j in range(5):\n",
    "    for i in range(7):\n",
    "        accuracy[i][0] = evaluation_Lap(sorted_stats,epsilon[i],K,N,M)\n",
    "        accuracy[i][1] = evaluation_Exp(x, appx_shd, epsilon[i],K,N,M)\n",
    "        \n",
    "        if accuracy[i][0] > max_acc[i][0]:\n",
    "            max_acc[i][0] = accuracy[i][0]\n",
    "        if accuracy[i][0] < min_acc[i][0]:\n",
    "            min_acc[i][0] = accuracy[i][0]\n",
    "        if accuracy[i][1] > max_acc[i][1]:\n",
    "            max_acc[i][1] = accuracy[i][1]\n",
    "        if accuracy[i][1] < min_acc[i][1]:\n",
    "            min_acc[i][1] = accuracy[i][1]\n",
    "        sum_acc[i][0] += accuracy[i][0]\n",
    "        sum_acc[i][1] += accuracy[i][1]\n",
    "    print(accuracy)\n",
    "\n",
    "accuracy = sum_acc / 5\n",
    "\n",
    "y_err = np.zeros((2,7,2))\n",
    "\n",
    "y_err[0,:,0] = accuracy[:,0] - min_acc[:,0]\n",
    "y_err[1,:,0] = max_acc[:,0] - accuracy[:,0]\n",
    "y_err[0,:,1] = accuracy[:,1] - min_acc[:,1]\n",
    "y_err[1,:,1] = max_acc[:,1] - accuracy[:,1]\n",
    "\n",
    "fig = plt.figure()\n",
    "plt.ylim(-0.05, 1.05)\n",
    "plt.xlim(-0.1, 5.1)\n",
    "plt.errorbar(epsilon, accuracy[:,0], yerr = y_err[:,:,0], capsize=5, fmt='o', ecolor='green', markeredgecolor = \"green\", color='green')\n",
    "plt.plot(epsilon, accuracy[:,0], marker=\"o\", markersize=5, color = \"green\", linestyle = \"-\", label = \"Laplace\")\n",
    "plt.errorbar(epsilon, accuracy[:,1], yerr = y_err[:,:,1], capsize=5, fmt='v', ecolor='blue', markeredgecolor = \"blue\", color='blue')\n",
    "plt.plot(epsilon, accuracy[:,1], marker=\"v\", markersize=5, color = \"blue\", linestyle = \"--\", label = \"Exp.appx\")\n",
    "plt.legend(fontsize = 18)\n",
    "plt.xlabel(\"epsilon\", fontsize = 18)\n",
    "plt.ylabel(\"accuracy\", fontsize = 18)\n",
    "fig.savefig(\"evaluation_total_K=5.png\")\n",
    "fig.savefig(\"fig/evaluation_total_K=5.eps\")"
   ]
  },
  {
   "cell_type": "code",
   "execution_count": 15,
   "metadata": {},
   "outputs": [
    {
     "name": "stdout",
     "output_type": "stream",
     "text": [
      "[[0.    0.   ]\n",
      " [0.    0.   ]\n",
      " [0.    0.008]\n",
      " [0.    0.602]\n",
      " [0.    0.944]\n",
      " [0.    0.994]\n",
      " [0.002 0.998]]\n",
      "[[0.    0.   ]\n",
      " [0.    0.   ]\n",
      " [0.    0.008]\n",
      " [0.    0.628]\n",
      " [0.    0.938]\n",
      " [0.    0.986]\n",
      " [0.    1.   ]]\n",
      "[[0.    0.   ]\n",
      " [0.    0.   ]\n",
      " [0.    0.006]\n",
      " [0.    0.622]\n",
      " [0.    0.934]\n",
      " [0.    0.998]\n",
      " [0.    1.   ]]\n",
      "[[0.    0.   ]\n",
      " [0.    0.   ]\n",
      " [0.    0.004]\n",
      " [0.    0.626]\n",
      " [0.    0.938]\n",
      " [0.    0.994]\n",
      " [0.    0.998]]\n"
     ]
    },
    {
     "name": "stderr",
     "output_type": "stream",
     "text": [
      "The PostScript backend does not support transparency; partially transparent artists will be rendered opaque.\n",
      "The PostScript backend does not support transparency; partially transparent artists will be rendered opaque.\n"
     ]
    },
    {
     "name": "stdout",
     "output_type": "stream",
     "text": [
      "[[0.    0.   ]\n",
      " [0.    0.   ]\n",
      " [0.    0.01 ]\n",
      " [0.    0.636]\n",
      " [0.    0.93 ]\n",
      " [0.    0.998]\n",
      " [0.    0.998]]\n"
     ]
    },
    {
     "data": {
      "image/png": "[encoded data removed]",
      "text/plain": [
       "<Figure size 432x288 with 1 Axes>"
      ]
     },
     "metadata": {
      "needs_background": "light"
     },
     "output_type": "display_data"
    }
   ],
   "source": [
    "K = 10\n",
    "N = 5000\n",
    "M = 1000000\n",
    "\n",
    "accuracy = np.zeros((7,2))\n",
    "max_acc = np.zeros((7,2))\n",
    "min_acc = np.ones((7,2))\n",
    "sum_acc = np.zeros((7,2))\n",
    "\n",
    "epsilon = [0.1, 0.5, 1.0, 2.0, 3.0, 4.0, 5.0]\n",
    "\n",
    "for j in range(5):\n",
    "    for i in range(7):\n",
    "        accuracy[i][0] = evaluation_Lap(sorted_stats,epsilon[i],K,N,M)\n",
    "        accuracy[i][1] = evaluation_Exp(x, appx_shd, epsilon[i],K,N,M)\n",
    "        \n",
    "        if accuracy[i][0] > max_acc[i][0]:\n",
    "            max_acc[i][0] = accuracy[i][0]\n",
    "        if accuracy[i][0] < min_acc[i][0]:\n",
    "            min_acc[i][0] = accuracy[i][0]\n",
    "        if accuracy[i][1] > max_acc[i][1]:\n",
    "            max_acc[i][1] = accuracy[i][1]\n",
    "        if accuracy[i][1] < min_acc[i][1]:\n",
    "            min_acc[i][1] = accuracy[i][1]\n",
    "        sum_acc[i][0] += accuracy[i][0]\n",
    "        sum_acc[i][1] += accuracy[i][1]\n",
    "    print(accuracy)\n",
    "\n",
    "accuracy = sum_acc / 5\n",
    "\n",
    "y_err = np.zeros((2,7,2))\n",
    "\n",
    "y_err[0,:,0] = accuracy[:,0] - min_acc[:,0]\n",
    "y_err[1,:,0] = max_acc[:,0] - accuracy[:,0]\n",
    "y_err[0,:,1] = accuracy[:,1] - min_acc[:,1]\n",
    "y_err[1,:,1] = max_acc[:,1] - accuracy[:,1]\n",
    "\n",
    "fig = plt.figure()\n",
    "plt.ylim(-0.05, 1.05)\n",
    "plt.xlim(-0.1, 5.1)\n",
    "plt.errorbar(epsilon, accuracy[:,0], yerr = y_err[:,:,0], capsize=5, fmt='o', ecolor='green', markeredgecolor = \"green\", color='green')\n",
    "plt.plot(epsilon, accuracy[:,0], marker=\"o\", markersize=5, color = \"green\", linestyle = \"-\", label = \"Laplace\")\n",
    "plt.errorbar(epsilon, accuracy[:,1], yerr = y_err[:,:,1], capsize=5, fmt='v', ecolor='blue', markeredgecolor = \"blue\", color='blue')\n",
    "plt.plot(epsilon, accuracy[:,1], marker=\"v\", markersize=5, color = \"blue\", linestyle = \"--\", label = \"Exp.appx\")\n",
    "plt.legend(fontsize = 18)\n",
    "plt.xlabel(\"epsilon\", fontsize = 18)\n",
    "plt.ylabel(\"accuracy\", fontsize = 18)\n",
    "fig.savefig(\"evaluation_total_K=10.png\")\n",
    "fig.savefig(\"fig/evaluation_total_K=10.eps\")"
   ]
  },
  {
   "cell_type": "code",
   "execution_count": null,
   "metadata": {},
   "outputs": [],
   "source": []
  }
 ],
 "metadata": {
  "kernelspec": {
   "display_name": "Python 3",
   "language": "python",
   "name": "python3"
  },
  "language_info": {
   "codemirror_mode": {
    "name": "ipython",
    "version": 3
   },
   "file_extension": ".py",
   "mimetype": "text/x-python",
   "name": "python",
   "nbconvert_exporter": "python",
   "pygments_lexer": "ipython3",
   "version": "3.8.3"
  }
 },
 "nbformat": 4,
 "nbformat_minor": 4
}
