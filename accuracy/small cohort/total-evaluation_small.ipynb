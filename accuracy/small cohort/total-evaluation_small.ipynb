{
 "cells": [
  {
   "cell_type": "code",
   "execution_count": 1,
   "metadata": {},
   "outputs": [],
   "source": [
    "import numpy as np\n",
    "import math\n",
    "from scipy import integrate\n",
    "import matplotlib.pyplot as plt\n",
    "import random\n",
    "import time\n",
    "from scipy.stats import rankdata"
   ]
  },
  {
   "cell_type": "code",
   "execution_count": 2,
   "metadata": {},
   "outputs": [],
   "source": [
    "def lap_noise(data, epsilon, K, N, M):\n",
    "    pri_data = data + np.random.laplace(loc = 0.0, scale = (2*K*(16*N-11)/N)/epsilon, size=data.shape)\n",
    "    \n",
    "    min = 10000\n",
    "    \n",
    "    for i in range(M):\n",
    "        if pri_data[i] > 0 and pri_data[i] < min:\n",
    "            min = pri_data[i]\n",
    "    \n",
    "    for i in range(M):\n",
    "        if pri_data[i] < 0:\n",
    "            pri_data[i] = min\n",
    "    \n",
    "    return pri_data"
   ]
  },
  {
   "cell_type": "code",
   "execution_count": 3,
   "metadata": {},
   "outputs": [],
   "source": [
    "def total(n):\n",
    "    h = n[1]+n[2]+n[3] + 2*(n[4]+n[5]+n[6]+n[7]+n[8]+n[9])\n",
    "    i = n[3]+n[7]+n[8] + 2*n[9]\n",
    "    j = n[2]+n[5] + 2*n[6] + n[8]\n",
    "    \n",
    "    if h == 0:\n",
    "        return 0\n",
    "    else:\n",
    "        return (4*((i-h/4)**2) + 2*((i+j-h/2)**2) + 4*((j-h/4)**2))/h"
   ]
  },
  {
   "cell_type": "code",
   "execution_count": 4,
   "metadata": {},
   "outputs": [],
   "source": [
    "def f(x, y, theta):\n",
    "    t = (x - math.sqrt(2)*math.cos(theta))**2 + (y - math.sin(theta))**2\n",
    "    return math.sqrt(t)\n",
    "\n",
    "def eDistance(x,y):\n",
    "    if x != 0:\n",
    "        roots = np.roots([4, 4*y, 8*x*x + y*y -4, -4*y, -y*y])\n",
    "        #print(roots)\n",
    "        theta = np.zeros(9)\n",
    "        theta[0] = 0\n",
    "        c = 1\n",
    "        for i in range(4):\n",
    "            if roots[i] >= -1 and roots[i] <= 1:\n",
    "                theta[c] = math.asin(roots[i])\n",
    "                if theta[c] >= 0:\n",
    "                    theta[c+1] = math.pi - theta[c]\n",
    "                else:\n",
    "                    theta[c+1] = - math.pi - theta[c]\n",
    "                c += 2\n",
    "        #print(theta)\n",
    "        \n",
    "        distance = 1000000000\n",
    "        for j in range(c):\n",
    "            #print(f(x,y,theta[j]))\n",
    "            if f(x,y,theta[j]) < distance:\n",
    "                distance = f(x,y,theta[j])\n",
    "                \n",
    "    else:\n",
    "        if y > 0:\n",
    "            distance = math.fabs(1-y)\n",
    "        else:\n",
    "            distance = math.fabs(-1-y)\n",
    "    return distance"
   ]
  },
  {
   "cell_type": "code",
   "execution_count": 5,
   "metadata": {},
   "outputs": [],
   "source": [
    "def appx_SHD_total(cc,n):\n",
    "    h = n[1]+n[2]+n[3] + 2*(n[4]+n[5]+n[6]+n[7]+n[8]+n[9])\n",
    "    i = n[3]+n[7]+n[8] + 2*n[9]\n",
    "    j = n[2]+n[5] + 2*n[6] + n[8]\n",
    "    T = total(n)\n",
    "    \n",
    "    if h <= cc:\n",
    "        s = 2*(i-j)/cc\n",
    "        t = 2*(i+j-cc/2)/cc\n",
    "        d = eDistance(s,t)\n",
    "        if T < cc:\n",
    "            return -math.ceil((math.sqrt(2)-1)*(cc-h)/(2*math.sqrt(2)) + d*cc/8)\n",
    "        else:\n",
    "            return math.ceil((math.sqrt(2)-1)*(cc-h)/(2*math.sqrt(2)) + d*cc/8)-1\n",
    "    else:\n",
    "        s = 2*(i-j)/math.sqrt(h*cc)\n",
    "        t = 2*(i+j-h/2)/math.sqrt(h*cc)\n",
    "        d = eDistance(s,t)\n",
    "        if T < cc:\n",
    "            return -math.ceil(d*math.sqrt(h*cc)/8)\n",
    "        else:\n",
    "            return math.ceil(d*math.sqrt(h*cc)/8)-1"
   ]
  },
  {
   "cell_type": "code",
   "execution_count": 6,
   "metadata": {},
   "outputs": [],
   "source": [
    "def random_num(pd):\n",
    "    dist = np.cumsum(pd).tolist()\n",
    "    dist[-1] = 1.0\n",
    "    num = np.random.rand()\n",
    "    dist.append(num)\n",
    "    return sorted(dist).index(num)\n",
    "\n",
    "def exp_mec(shd, m, K, epsilon):\n",
    "    S = np.zeros(K)\n",
    "    k = 0\n",
    "    \n",
    "    w = np.zeros(m)\n",
    "    p = np.zeros(m)\n",
    "    \n",
    "    while k < K:\n",
    "        sumw = 0\n",
    "        for i in range(m):\n",
    "            w[i] = math.exp(epsilon * shd[i] / (2*K))\n",
    "            sumw += w[i]\n",
    "        for i in range(m):\n",
    "            p[i] = w[i]/sumw\n",
    "        \n",
    "        x = random_num(p)\n",
    "        shd[x] = -1000000.0\n",
    "        S[k] = x\n",
    "        k += 1\n",
    "    \n",
    "    return S"
   ]
  },
  {
   "cell_type": "code",
   "execution_count": 7,
   "metadata": {},
   "outputs": [
    {
     "data": {
      "image/png": "[encoded data removed]",
      "text/plain": [
       "<Figure size 432x288 with 1 Axes>"
      ]
     },
     "metadata": {
      "needs_background": "light"
     },
     "output_type": "display_data"
    }
   ],
   "source": [
    "N = 150\n",
    "M = 5000\n",
    "H = np.zeros(M)\n",
    "I = np.zeros(M)\n",
    "J = np.zeros(M)\n",
    "\n",
    "n = np.zeros((M,10))\n",
    "\n",
    "for i in range(M-10):\n",
    "    n[i][4] = np.random.binomial(2*N, 1/5)\n",
    "    S = np.random.binomial(2*N-n[i][4], 1/4) #n7+n9+n10\n",
    "    P = np.random.binomial(S, 1/2) #n7+n10\n",
    "    n[i][6] = np.random.binomial(P, 1/2)\n",
    "    n[i][9] = P - n[i][6]\n",
    "    n[i][8] = S - P\n",
    "    n[i][1] = np.random.binomial(2*N-n[i][4]-S, 1/3)\n",
    "    T = np.random.binomial(2*N-n[i][4]-n[i][1]-S, 1/2) #n3+n4\n",
    "    n[i][2] = np.random.binomial(T, 1/2)\n",
    "    n[i][3] = T - n[i][2]\n",
    "    R = 2*N-n[i][4]-n[i][1]-S-T\n",
    "    Q = np.random.binomial(R, 1/2) #n6+n8\n",
    "    n[i][5] = np.random.binomial(Q, 1/2)\n",
    "    n[i][7] = Q - n[i][5]\n",
    "    n[i][0] = R - Q\n",
    "    \n",
    "    H[i] = n[i][1]+n[i][2]+n[i][3] + 2*(n[i][4]+n[i][5]+n[i][6]+n[i][7]+n[i][8]+n[i][9])\n",
    "    I[i] = n[i][3]+n[i][7]+n[i][8] + 2*n[i][9]\n",
    "    J[i] = n[i][2]+n[i][5] + 2*n[i][6] + n[i][8]\n",
    "    \n",
    "for i in range(M-10,M):\n",
    "    n[i][4] = np.random.binomial(2*N, 1.5/5)\n",
    "    S = np.random.binomial(2*N-n[i][4], 1/4) #n7+n9+n10\n",
    "    P = np.random.binomial(S, 1/2) #n7+n10\n",
    "    n[i][6] = np.random.binomial(P, 1.5/2)\n",
    "    n[i][9] = P - n[i][6]\n",
    "    n[i][8] = S - P\n",
    "    n[i][1] = np.random.binomial(2*N-n[i][4]-S, 1.5/3)\n",
    "    T = np.random.binomial(2*N-n[i][4]-n[i][1]-S, 1/2) #n3+n4\n",
    "    n[i][2] = np.random.binomial(T, 1.5/2)\n",
    "    n[i][3] = T - n[i][2]\n",
    "    R = 2*N-n[i][4]-n[i][1]-S-T\n",
    "    Q = np.random.binomial(R, 1/2) #n6+n8\n",
    "    n[i][5] = np.random.binomial(Q, 1.5/2)\n",
    "    n[i][7] = Q - n[i][5]\n",
    "    n[i][0] = R - Q\n",
    "    \n",
    "    H[i] = n[i][1]+n[i][2]+n[i][3] + 2*(n[i][4]+n[i][5]+n[i][6]+n[i][7]+n[i][8]+n[i][9])\n",
    "    I[i] = n[i][3]+n[i][7]+n[i][8] + 2*n[i][9]\n",
    "    J[i] = n[i][2]+n[i][5] + 2*n[i][6] + n[i][8]\n",
    "\n",
    "stats = np.zeros(M)\n",
    "order = np.zeros(M)\n",
    "\n",
    "for i in range(M):\n",
    "    order[i] = i\n",
    "    if H[i] == 0:\n",
    "        stats[i] = 0\n",
    "    else:\n",
    "        stats[i] = (2*((I[i]-J[i])**2))/H[i] + ((2*I[i] + 2*J[i] - H[i])**2)/H[i]\n",
    "\n",
    "x = np.argsort(stats)\n",
    "sorted_stats = sorted(stats, reverse=True)\n",
    "\n",
    "fig = plt.figure()\n",
    "plt.ylim(-1, max(stats)+2)\n",
    "plt.xlim(-2, 102)\n",
    "plt.plot(order, sorted_stats, marker=\"o\", markersize=2, color = \"red\", linestyle = \"None\")\n",
    "plt.axhline(23.0, color = \"black\", linestyle = \"-.\")\n",
    "plt.xlabel(\"rank\", fontsize = 18)\n",
    "plt.ylabel(\"chi^2-total\", fontsize = 18)\n",
    "fig.savefig(\"stats-total-small.png\")\n",
    "fig.savefig(\"fig/stats-total-small.eps\")"
   ]
  },
  {
   "cell_type": "code",
   "execution_count": 8,
   "metadata": {},
   "outputs": [
    {
     "name": "stdout",
     "output_type": "stream",
     "text": [
      "[-12. -10.  -8. ...   4.   3.   4.]\n"
     ]
    },
    {
     "name": "stderr",
     "output_type": "stream",
     "text": [
      "<ipython-input-4-93072744abec>:14: ComplexWarning: Casting complex values to real discards the imaginary part\n",
      "  theta[c] = math.asin(roots[i])\n"
     ]
    }
   ],
   "source": [
    "cc = 23.0\n",
    "appx_shd = np.zeros(M)\n",
    "\n",
    "for i in range(M):\n",
    "    k = [int(n[i][0]), int(n[i][1]), int(n[i][2]), int(n[i][3]), int(n[i][4]), int(n[i][5]), int(n[i][6]), int(n[i][7]), int(n[i][8]), int(n[i][9])]\n",
    "    appx_shd[i] = appx_SHD_total(cc,k)\n",
    "\n",
    "print(appx_shd)"
   ]
  },
  {
   "cell_type": "code",
   "execution_count": 9,
   "metadata": {},
   "outputs": [],
   "source": [
    "def evaluation_Lap(data,epsilon, K, N, M):\n",
    "    correct = 0\n",
    "    for j in range(50):\n",
    "        noisy_stats = lap_noise(np.array(data), epsilon, K, N, M)\n",
    "        noisy_rank = rankdata(-noisy_stats)\n",
    "        #print(noisy_rank)\n",
    "        for i in range(K):\n",
    "            if noisy_rank[i] <= K:\n",
    "                correct += 1\n",
    "        #print(correct)\n",
    "    accuracy = correct/(K*50)\n",
    "    return accuracy"
   ]
  },
  {
   "cell_type": "code",
   "execution_count": 10,
   "metadata": {},
   "outputs": [],
   "source": [
    "def evaluation_Exp(x, appx_shd, epsilon, K, N, M):\n",
    "    accuracy = 0\n",
    "    correct = 0\n",
    "    cc = 23.0\n",
    "    \n",
    "    true = np.zeros(K)\n",
    "    for i in range(K):\n",
    "        true[i] = x[M-1-i]\n",
    "        \n",
    "    APPX = np.zeros(M)\n",
    "        \n",
    "    for j in range(50):\n",
    "            \n",
    "        for i in range(M):\n",
    "            APPX[i] = appx_shd[i]\n",
    "            \n",
    "        #print(APPX)\n",
    "        \n",
    "        appx_result = exp_mec(APPX, M, K, epsilon)\n",
    "        \n",
    "        for k in range(K):\n",
    "            for l in range(K):\n",
    "                if appx_result[k] == true[l]:\n",
    "                    correct += 1\n",
    "        #print(correct)\n",
    "    accuracy = correct/(K*50)\n",
    "    return accuracy"
   ]
  },
  {
   "cell_type": "code",
   "execution_count": 11,
   "metadata": {},
   "outputs": [
    {
     "name": "stdout",
     "output_type": "stream",
     "text": [
      "[[0.   0.  ]\n",
      " [0.   0.02]\n",
      " [0.   0.36]\n",
      " [0.   0.78]\n",
      " [0.   0.9 ]\n",
      " [0.14 1.  ]\n",
      " [0.38 1.  ]]\n",
      "[[0.   0.  ]\n",
      " [0.   0.02]\n",
      " [0.02 0.3 ]\n",
      " [0.02 0.72]\n",
      " [0.02 0.98]\n",
      " [0.26 0.98]\n",
      " [0.38 1.  ]]\n",
      "[[0.   0.  ]\n",
      " [0.   0.04]\n",
      " [0.   0.3 ]\n",
      " [0.   0.72]\n",
      " [0.06 0.92]\n",
      " [0.2  0.92]\n",
      " [0.52 0.98]]\n",
      "[[0.   0.  ]\n",
      " [0.   0.02]\n",
      " [0.   0.26]\n",
      " [0.   0.74]\n",
      " [0.04 0.94]\n",
      " [0.24 1.  ]\n",
      " [0.5  0.96]]\n"
     ]
    },
    {
     "name": "stderr",
     "output_type": "stream",
     "text": [
      "The PostScript backend does not support transparency; partially transparent artists will be rendered opaque.\n",
      "The PostScript backend does not support transparency; partially transparent artists will be rendered opaque.\n"
     ]
    },
    {
     "name": "stdout",
     "output_type": "stream",
     "text": [
      "[[0.   0.  ]\n",
      " [0.   0.  ]\n",
      " [0.   0.4 ]\n",
      " [0.02 0.78]\n",
      " [0.04 0.94]\n",
      " [0.14 0.98]\n",
      " [0.42 0.98]]\n"
     ]
    },
    {
     "data": {
      "image/png": "[encoded data removed]",
      "text/plain": [
       "<Figure size 432x288 with 1 Axes>"
      ]
     },
     "metadata": {
      "needs_background": "light"
     },
     "output_type": "display_data"
    }
   ],
   "source": [
    "K = 1\n",
    "N = 150\n",
    "M = 5000\n",
    "\n",
    "accuracy = np.zeros((7,2))\n",
    "max_acc = np.zeros((7,2))\n",
    "min_acc = np.ones((7,2))\n",
    "sum_acc = np.zeros((7,2))\n",
    "\n",
    "epsilon = [0.1, 0.5, 1.0, 2.0, 3.0, 4.0, 5.0]\n",
    "\n",
    "for j in range(5):\n",
    "    for i in range(7):\n",
    "        accuracy[i][0] = evaluation_Lap(sorted_stats,epsilon[i],K,N,M)\n",
    "        accuracy[i][1] = evaluation_Exp(x, appx_shd, epsilon[i],K,N,M)\n",
    "        \n",
    "        if accuracy[i][0] > max_acc[i][0]:\n",
    "            max_acc[i][0] = accuracy[i][0]\n",
    "        if accuracy[i][0] < min_acc[i][0]:\n",
    "            min_acc[i][0] = accuracy[i][0]\n",
    "        if accuracy[i][1] > max_acc[i][1]:\n",
    "            max_acc[i][1] = accuracy[i][1]\n",
    "        if accuracy[i][1] < min_acc[i][1]:\n",
    "            min_acc[i][1] = accuracy[i][1]\n",
    "        sum_acc[i][0] += accuracy[i][0]\n",
    "        sum_acc[i][1] += accuracy[i][1]\n",
    "    print(accuracy)\n",
    "\n",
    "accuracy = sum_acc / 5\n",
    "\n",
    "y_err = np.zeros((2,7,2))\n",
    "\n",
    "y_err[0,:,0] = accuracy[:,0] - min_acc[:,0]\n",
    "y_err[1,:,0] = max_acc[:,0] - accuracy[:,0]\n",
    "y_err[0,:,1] = accuracy[:,1] - min_acc[:,1]\n",
    "y_err[1,:,1] = max_acc[:,1] - accuracy[:,1]\n",
    "\n",
    "fig = plt.figure()\n",
    "plt.ylim(-0.05, 1.05)\n",
    "plt.xlim(-0.1, 5.1)\n",
    "plt.errorbar(epsilon, accuracy[:,0], yerr = y_err[:,:,0], capsize=5, fmt='o', ecolor='green', markeredgecolor = \"green\", color='green')\n",
    "plt.plot(epsilon, accuracy[:,0], marker=\"o\", markersize=5, color = \"green\", linestyle = \"-\", label = \"Laplace\")\n",
    "plt.errorbar(epsilon, accuracy[:,1], yerr = y_err[:,:,1], capsize=5, fmt='v', ecolor='blue', markeredgecolor = \"blue\", color='blue')\n",
    "plt.plot(epsilon, accuracy[:,1], marker=\"v\", markersize=5, color = \"blue\", linestyle = \"--\", label = \"Exp.appx\")\n",
    "plt.legend(fontsize = 18)\n",
    "plt.xlabel(\"epsilon\", fontsize = 18)\n",
    "plt.ylabel(\"accuracy\", fontsize = 18)\n",
    "fig.savefig(\"evaluation_total_small_K=1.png\")\n",
    "fig.savefig(\"fig/evaluation_total_small_K=1.eps\")"
   ]
  },
  {
   "cell_type": "code",
   "execution_count": 12,
   "metadata": {},
   "outputs": [
    {
     "name": "stdout",
     "output_type": "stream",
     "text": [
      "[[0.   0.  ]\n",
      " [0.01 0.01]\n",
      " [0.   0.04]\n",
      " [0.   0.4 ]\n",
      " [0.   0.65]\n",
      " [0.   0.76]\n",
      " [0.02 0.79]]\n",
      "[[0.   0.  ]\n",
      " [0.01 0.  ]\n",
      " [0.   0.04]\n",
      " [0.   0.5 ]\n",
      " [0.   0.64]\n",
      " [0.   0.76]\n",
      " [0.01 0.8 ]]\n",
      "[[0.   0.  ]\n",
      " [0.   0.01]\n",
      " [0.   0.01]\n",
      " [0.01 0.45]\n",
      " [0.   0.74]\n",
      " [0.01 0.7 ]\n",
      " [0.01 0.8 ]]\n",
      "[[0.   0.  ]\n",
      " [0.   0.  ]\n",
      " [0.   0.01]\n",
      " [0.01 0.45]\n",
      " [0.01 0.71]\n",
      " [0.   0.75]\n",
      " [0.02 0.8 ]]\n"
     ]
    },
    {
     "name": "stderr",
     "output_type": "stream",
     "text": [
      "The PostScript backend does not support transparency; partially transparent artists will be rendered opaque.\n",
      "The PostScript backend does not support transparency; partially transparent artists will be rendered opaque.\n"
     ]
    },
    {
     "name": "stdout",
     "output_type": "stream",
     "text": [
      "[[0.   0.  ]\n",
      " [0.   0.  ]\n",
      " [0.01 0.04]\n",
      " [0.   0.4 ]\n",
      " [0.01 0.6 ]\n",
      " [0.01 0.71]\n",
      " [0.03 0.81]]\n"
     ]
    },
    {
     "data": {
      "image/png": "[encoded data removed]",
      "text/plain": [
       "<Figure size 432x288 with 1 Axes>"
      ]
     },
     "metadata": {
      "needs_background": "light"
     },
     "output_type": "display_data"
    }
   ],
   "source": [
    "K = 2\n",
    "N = 150\n",
    "M = 5000\n",
    "\n",
    "accuracy = np.zeros((7,2))\n",
    "max_acc = np.zeros((7,2))\n",
    "min_acc = np.ones((7,2))\n",
    "sum_acc = np.zeros((7,2))\n",
    "\n",
    "epsilon = [0.1, 0.5, 1.0, 2.0, 3.0, 4.0, 5.0]\n",
    "\n",
    "for j in range(5):\n",
    "    for i in range(7):\n",
    "        accuracy[i][0] = evaluation_Lap(sorted_stats,epsilon[i],K,N,M)\n",
    "        accuracy[i][1] = evaluation_Exp(x, appx_shd, epsilon[i],K,N,M)\n",
    "        \n",
    "        if accuracy[i][0] > max_acc[i][0]:\n",
    "            max_acc[i][0] = accuracy[i][0]\n",
    "        if accuracy[i][0] < min_acc[i][0]:\n",
    "            min_acc[i][0] = accuracy[i][0]\n",
    "        if accuracy[i][1] > max_acc[i][1]:\n",
    "            max_acc[i][1] = accuracy[i][1]\n",
    "        if accuracy[i][1] < min_acc[i][1]:\n",
    "            min_acc[i][1] = accuracy[i][1]\n",
    "        sum_acc[i][0] += accuracy[i][0]\n",
    "        sum_acc[i][1] += accuracy[i][1]\n",
    "    print(accuracy)\n",
    "\n",
    "accuracy = sum_acc / 5\n",
    "\n",
    "y_err = np.zeros((2,7,2))\n",
    "\n",
    "y_err[0,:,0] = accuracy[:,0] - min_acc[:,0]\n",
    "y_err[1,:,0] = max_acc[:,0] - accuracy[:,0]\n",
    "y_err[0,:,1] = accuracy[:,1] - min_acc[:,1]\n",
    "y_err[1,:,1] = max_acc[:,1] - accuracy[:,1]\n",
    "\n",
    "fig = plt.figure()\n",
    "plt.ylim(-0.05, 1.05)\n",
    "plt.xlim(-0.1, 5.1)\n",
    "plt.errorbar(epsilon, accuracy[:,0], yerr = y_err[:,:,0], capsize=5, fmt='o', ecolor='green', markeredgecolor = \"green\", color='green')\n",
    "plt.plot(epsilon, accuracy[:,0], marker=\"o\", markersize=5, color = \"green\", linestyle = \"-\", label = \"Laplace\")\n",
    "plt.errorbar(epsilon, accuracy[:,1], yerr = y_err[:,:,1], capsize=5, fmt='v', ecolor='blue', markeredgecolor = \"blue\", color='blue')\n",
    "plt.plot(epsilon, accuracy[:,1], marker=\"v\", markersize=5, color = \"blue\", linestyle = \"--\", label = \"Exp.appx\")\n",
    "plt.legend(fontsize = 18)\n",
    "plt.xlabel(\"epsilon\", fontsize = 18)\n",
    "plt.ylabel(\"accuracy\", fontsize = 18)\n",
    "fig.savefig(\"evaluation_total_small_K=2.png\")\n",
    "fig.savefig(\"fig/evaluation_total_small_K=2.eps\")"
   ]
  },
  {
   "cell_type": "code",
   "execution_count": 13,
   "metadata": {},
   "outputs": [
    {
     "name": "stdout",
     "output_type": "stream",
     "text": [
      "[[0.         0.        ]\n",
      " [0.         0.00666667]\n",
      " [0.         0.00666667]\n",
      " [0.00666667 0.14666667]\n",
      " [0.         0.44      ]\n",
      " [0.         0.64      ]\n",
      " [0.02       0.68666667]]\n",
      "[[0.         0.        ]\n",
      " [0.         0.01333333]\n",
      " [0.         0.01333333]\n",
      " [0.         0.1       ]\n",
      " [0.         0.45333333]\n",
      " [0.         0.56      ]\n",
      " [0.         0.69333333]]\n",
      "[[0.         0.        ]\n",
      " [0.         0.01333333]\n",
      " [0.         0.01333333]\n",
      " [0.         0.14      ]\n",
      " [0.00666667 0.46666667]\n",
      " [0.         0.64      ]\n",
      " [0.         0.68666667]]\n",
      "[[0.         0.        ]\n",
      " [0.         0.        ]\n",
      " [0.         0.03333333]\n",
      " [0.00666667 0.09333333]\n",
      " [0.00666667 0.44666667]\n",
      " [0.         0.61333333]\n",
      " [0.         0.71333333]]\n"
     ]
    },
    {
     "name": "stderr",
     "output_type": "stream",
     "text": [
      "The PostScript backend does not support transparency; partially transparent artists will be rendered opaque.\n",
      "The PostScript backend does not support transparency; partially transparent artists will be rendered opaque.\n"
     ]
    },
    {
     "name": "stdout",
     "output_type": "stream",
     "text": [
      "[[0.         0.        ]\n",
      " [0.         0.        ]\n",
      " [0.00666667 0.01333333]\n",
      " [0.         0.10666667]\n",
      " [0.00666667 0.43333333]\n",
      " [0.01333333 0.62      ]\n",
      " [0.         0.63333333]]\n"
     ]
    },
    {
     "data": {
      "image/png": "[encoded data removed]",
      "text/plain": [
       "<Figure size 432x288 with 1 Axes>"
      ]
     },
     "metadata": {
      "needs_background": "light"
     },
     "output_type": "display_data"
    }
   ],
   "source": [
    "K = 3\n",
    "N = 150\n",
    "M = 5000\n",
    "\n",
    "accuracy = np.zeros((7,2))\n",
    "max_acc = np.zeros((7,2))\n",
    "min_acc = np.ones((7,2))\n",
    "sum_acc = np.zeros((7,2))\n",
    "\n",
    "epsilon = [0.1, 0.5, 1.0, 2.0, 3.0, 4.0, 5.0]\n",
    "\n",
    "for j in range(5):\n",
    "    for i in range(7):\n",
    "        accuracy[i][0] = evaluation_Lap(sorted_stats,epsilon[i],K,N,M)\n",
    "        accuracy[i][1] = evaluation_Exp(x, appx_shd, epsilon[i],K,N,M)\n",
    "        \n",
    "        if accuracy[i][0] > max_acc[i][0]:\n",
    "            max_acc[i][0] = accuracy[i][0]\n",
    "        if accuracy[i][0] < min_acc[i][0]:\n",
    "            min_acc[i][0] = accuracy[i][0]\n",
    "        if accuracy[i][1] > max_acc[i][1]:\n",
    "            max_acc[i][1] = accuracy[i][1]\n",
    "        if accuracy[i][1] < min_acc[i][1]:\n",
    "            min_acc[i][1] = accuracy[i][1]\n",
    "        sum_acc[i][0] += accuracy[i][0]\n",
    "        sum_acc[i][1] += accuracy[i][1]\n",
    "    print(accuracy)\n",
    "\n",
    "accuracy = sum_acc / 5\n",
    "\n",
    "y_err = np.zeros((2,7,2))\n",
    "\n",
    "y_err[0,:,0] = accuracy[:,0] - min_acc[:,0]\n",
    "y_err[1,:,0] = max_acc[:,0] - accuracy[:,0]\n",
    "y_err[0,:,1] = accuracy[:,1] - min_acc[:,1]\n",
    "y_err[1,:,1] = max_acc[:,1] - accuracy[:,1]\n",
    "\n",
    "fig = plt.figure()\n",
    "plt.ylim(-0.05, 1.05)\n",
    "plt.xlim(-0.1, 5.1)\n",
    "plt.errorbar(epsilon, accuracy[:,0], yerr = y_err[:,:,0], capsize=5, fmt='o', ecolor='green', markeredgecolor = \"green\", color='green')\n",
    "plt.plot(epsilon, accuracy[:,0], marker=\"o\", markersize=5, color = \"green\", linestyle = \"-\", label = \"Laplace\")\n",
    "plt.errorbar(epsilon, accuracy[:,1], yerr = y_err[:,:,1], capsize=5, fmt='v', ecolor='blue', markeredgecolor = \"blue\", color='blue')\n",
    "plt.plot(epsilon, accuracy[:,1], marker=\"v\", markersize=5, color = \"blue\", linestyle = \"--\", label = \"Exp.appx\")\n",
    "plt.legend(fontsize = 18)\n",
    "plt.xlabel(\"epsilon\", fontsize = 18)\n",
    "plt.ylabel(\"accuracy\", fontsize = 18)\n",
    "fig.savefig(\"evaluation_total_small_K=3.png\")\n",
    "fig.savefig(\"fig/evaluation_total_small_K=3.eps\")"
   ]
  },
  {
   "cell_type": "code",
   "execution_count": 14,
   "metadata": {},
   "outputs": [
    {
     "name": "stdout",
     "output_type": "stream",
     "text": [
      "[[0.    0.   ]\n",
      " [0.    0.   ]\n",
      " [0.    0.   ]\n",
      " [0.008 0.024]\n",
      " [0.    0.12 ]\n",
      " [0.    0.296]\n",
      " [0.004 0.528]]\n",
      "[[0.    0.   ]\n",
      " [0.004 0.   ]\n",
      " [0.    0.004]\n",
      " [0.    0.024]\n",
      " [0.    0.116]\n",
      " [0.012 0.316]\n",
      " [0.004 0.504]]\n",
      "[[0.    0.004]\n",
      " [0.    0.004]\n",
      " [0.    0.   ]\n",
      " [0.004 0.032]\n",
      " [0.    0.136]\n",
      " [0.012 0.328]\n",
      " [0.    0.468]]\n",
      "[[0.004 0.   ]\n",
      " [0.    0.   ]\n",
      " [0.    0.004]\n",
      " [0.    0.016]\n",
      " [0.    0.112]\n",
      " [0.    0.292]\n",
      " [0.004 0.556]]\n"
     ]
    },
    {
     "name": "stderr",
     "output_type": "stream",
     "text": [
      "The PostScript backend does not support transparency; partially transparent artists will be rendered opaque.\n",
      "The PostScript backend does not support transparency; partially transparent artists will be rendered opaque.\n"
     ]
    },
    {
     "name": "stdout",
     "output_type": "stream",
     "text": [
      "[[0.    0.004]\n",
      " [0.    0.   ]\n",
      " [0.    0.016]\n",
      " [0.    0.016]\n",
      " [0.004 0.096]\n",
      " [0.004 0.324]\n",
      " [0.012 0.508]]\n"
     ]
    },
    {
     "data": {
      "image/png": "[encoded data removed]",
      "text/plain": [
       "<Figure size 432x288 with 1 Axes>"
      ]
     },
     "metadata": {
      "needs_background": "light"
     },
     "output_type": "display_data"
    }
   ],
   "source": [
    "K = 5\n",
    "N = 150\n",
    "M = 5000\n",
    "\n",
    "accuracy = np.zeros((7,2))\n",
    "max_acc = np.zeros((7,2))\n",
    "min_acc = np.ones((7,2))\n",
    "sum_acc = np.zeros((7,2))\n",
    "\n",
    "epsilon = [0.1, 0.5, 1.0, 2.0, 3.0, 4.0, 5.0]\n",
    "\n",
    "for j in range(5):\n",
    "    for i in range(7):\n",
    "        accuracy[i][0] = evaluation_Lap(sorted_stats,epsilon[i],K,N,M)\n",
    "        accuracy[i][1] = evaluation_Exp(x, appx_shd, epsilon[i],K,N,M)\n",
    "        \n",
    "        if accuracy[i][0] > max_acc[i][0]:\n",
    "            max_acc[i][0] = accuracy[i][0]\n",
    "        if accuracy[i][0] < min_acc[i][0]:\n",
    "            min_acc[i][0] = accuracy[i][0]\n",
    "        if accuracy[i][1] > max_acc[i][1]:\n",
    "            max_acc[i][1] = accuracy[i][1]\n",
    "        if accuracy[i][1] < min_acc[i][1]:\n",
    "            min_acc[i][1] = accuracy[i][1]\n",
    "        sum_acc[i][0] += accuracy[i][0]\n",
    "        sum_acc[i][1] += accuracy[i][1]\n",
    "    print(accuracy)\n",
    "\n",
    "accuracy = sum_acc / 5\n",
    "\n",
    "y_err = np.zeros((2,7,2))\n",
    "\n",
    "y_err[0,:,0] = accuracy[:,0] - min_acc[:,0]\n",
    "y_err[1,:,0] = max_acc[:,0] - accuracy[:,0]\n",
    "y_err[0,:,1] = accuracy[:,1] - min_acc[:,1]\n",
    "y_err[1,:,1] = max_acc[:,1] - accuracy[:,1]\n",
    "\n",
    "fig = plt.figure()\n",
    "plt.ylim(-0.05, 1.05)\n",
    "plt.xlim(-0.1, 5.1)\n",
    "plt.errorbar(epsilon, accuracy[:,0], yerr = y_err[:,:,0], capsize=5, fmt='o', ecolor='green', markeredgecolor = \"green\", color='green')\n",
    "plt.plot(epsilon, accuracy[:,0], marker=\"o\", markersize=5, color = \"green\", linestyle = \"-\", label = \"Laplace\")\n",
    "plt.errorbar(epsilon, accuracy[:,1], yerr = y_err[:,:,1], capsize=5, fmt='v', ecolor='blue', markeredgecolor = \"blue\", color='blue')\n",
    "plt.plot(epsilon, accuracy[:,1], marker=\"v\", markersize=5, color = \"blue\", linestyle = \"--\", label = \"Exp.appx\")\n",
    "plt.legend(fontsize = 18)\n",
    "plt.xlabel(\"epsilon\", fontsize = 18)\n",
    "plt.ylabel(\"accuracy\", fontsize = 18)\n",
    "fig.savefig(\"evaluation_total_small_K=5.png\")\n",
    "fig.savefig(\"fig/evaluation_total_small_K=5.eps\")"
   ]
  },
  {
   "cell_type": "code",
   "execution_count": 15,
   "metadata": {},
   "outputs": [
    {
     "name": "stdout",
     "output_type": "stream",
     "text": [
      "[[0.002 0.002]\n",
      " [0.004 0.004]\n",
      " [0.004 0.01 ]\n",
      " [0.004 0.01 ]\n",
      " [0.004 0.01 ]\n",
      " [0.004 0.036]\n",
      " [0.006 0.072]]\n",
      "[[0.002 0.002]\n",
      " [0.002 0.   ]\n",
      " [0.002 0.006]\n",
      " [0.002 0.01 ]\n",
      " [0.002 0.014]\n",
      " [0.006 0.036]\n",
      " [0.006 0.086]]\n",
      "[[0.004 0.   ]\n",
      " [0.002 0.004]\n",
      " [0.    0.01 ]\n",
      " [0.    0.01 ]\n",
      " [0.    0.018]\n",
      " [0.004 0.02 ]\n",
      " [0.008 0.072]]\n",
      "[[0.    0.002]\n",
      " [0.004 0.002]\n",
      " [0.004 0.004]\n",
      " [0.    0.002]\n",
      " [0.002 0.012]\n",
      " [0.002 0.05 ]\n",
      " [0.006 0.076]]\n"
     ]
    },
    {
     "name": "stderr",
     "output_type": "stream",
     "text": [
      "The PostScript backend does not support transparency; partially transparent artists will be rendered opaque.\n",
      "The PostScript backend does not support transparency; partially transparent artists will be rendered opaque.\n"
     ]
    },
    {
     "name": "stdout",
     "output_type": "stream",
     "text": [
      "[[0.002 0.   ]\n",
      " [0.002 0.   ]\n",
      " [0.002 0.004]\n",
      " [0.004 0.01 ]\n",
      " [0.004 0.016]\n",
      " [0.006 0.024]\n",
      " [0.004 0.072]]\n"
     ]
    },
    {
     "data": {
      "image/png": "[encoded data removed]",
      "text/plain": [
       "<Figure size 432x288 with 1 Axes>"
      ]
     },
     "metadata": {
      "needs_background": "light"
     },
     "output_type": "display_data"
    }
   ],
   "source": [
    "K = 10\n",
    "N = 150\n",
    "M = 5000\n",
    "\n",
    "accuracy = np.zeros((7,2))\n",
    "max_acc = np.zeros((7,2))\n",
    "min_acc = np.ones((7,2))\n",
    "sum_acc = np.zeros((7,2))\n",
    "\n",
    "epsilon = [0.1, 0.5, 1.0, 2.0, 3.0, 4.0, 5.0]\n",
    "\n",
    "for j in range(5):\n",
    "    for i in range(7):\n",
    "        accuracy[i][0] = evaluation_Lap(sorted_stats,epsilon[i],K,N,M)\n",
    "        accuracy[i][1] = evaluation_Exp(x, appx_shd, epsilon[i],K,N,M)\n",
    "        \n",
    "        if accuracy[i][0] > max_acc[i][0]:\n",
    "            max_acc[i][0] = accuracy[i][0]\n",
    "        if accuracy[i][0] < min_acc[i][0]:\n",
    "            min_acc[i][0] = accuracy[i][0]\n",
    "        if accuracy[i][1] > max_acc[i][1]:\n",
    "            max_acc[i][1] = accuracy[i][1]\n",
    "        if accuracy[i][1] < min_acc[i][1]:\n",
    "            min_acc[i][1] = accuracy[i][1]\n",
    "        sum_acc[i][0] += accuracy[i][0]\n",
    "        sum_acc[i][1] += accuracy[i][1]\n",
    "    print(accuracy)\n",
    "\n",
    "accuracy = sum_acc / 5\n",
    "\n",
    "y_err = np.zeros((2,7,2))\n",
    "\n",
    "y_err[0,:,0] = accuracy[:,0] - min_acc[:,0]\n",
    "y_err[1,:,0] = max_acc[:,0] - accuracy[:,0]\n",
    "y_err[0,:,1] = accuracy[:,1] - min_acc[:,1]\n",
    "y_err[1,:,1] = max_acc[:,1] - accuracy[:,1]\n",
    "\n",
    "fig = plt.figure()\n",
    "plt.ylim(-0.05, 1.05)\n",
    "plt.xlim(-0.1, 5.1)\n",
    "plt.errorbar(epsilon, accuracy[:,0], yerr = y_err[:,:,0], capsize=5, fmt='o', ecolor='green', markeredgecolor = \"green\", color='green')\n",
    "plt.plot(epsilon, accuracy[:,0], marker=\"o\", markersize=5, color = \"green\", linestyle = \"-\", label = \"Laplace\")\n",
    "plt.errorbar(epsilon, accuracy[:,1], yerr = y_err[:,:,1], capsize=5, fmt='v', ecolor='blue', markeredgecolor = \"blue\", color='blue')\n",
    "plt.plot(epsilon, accuracy[:,1], marker=\"v\", markersize=5, color = \"blue\", linestyle = \"--\", label = \"Exp.appx\")\n",
    "plt.legend(fontsize = 18)\n",
    "plt.xlabel(\"epsilon\", fontsize = 18)\n",
    "plt.ylabel(\"accuracy\", fontsize = 18)\n",
    "fig.savefig(\"evaluation_total_small_K=10.png\")\n",
    "fig.savefig(\"fig/evaluation_total_small_K=10.eps\")"
   ]
  },
  {
   "cell_type": "code",
   "execution_count": null,
   "metadata": {},
   "outputs": [],
   "source": []
  }
 ],
 "metadata": {
  "kernelspec": {
   "display_name": "Python 3",
   "language": "python",
   "name": "python3"
  },
  "language_info": {
   "codemirror_mode": {
    "name": "ipython",
    "version": 3
   },
   "file_extension": ".py",
   "mimetype": "text/x-python",
   "name": "python",
   "nbconvert_exporter": "python",
   "pygments_lexer": "ipython3",
   "version": "3.9.0"
  }
 },
 "nbformat": 4,
 "nbformat_minor": 4
}
