{
 "cells": [
  {
   "cell_type": "code",
   "execution_count": 1,
   "metadata": {},
   "outputs": [],
   "source": [
    "import numpy as np\n",
    "import math\n",
    "from scipy import integrate\n",
    "import matplotlib.pyplot as plt\n",
    "import random\n",
    "import time\n",
    "from scipy.stats import rankdata"
   ]
  },
  {
   "cell_type": "code",
   "execution_count": 2,
   "metadata": {},
   "outputs": [],
   "source": [
    "def lap_noise(data, epsilon, K, N, M):\n",
    "    pri_data = data + np.random.laplace(loc = 0.0, scale = (2*K*(16*N-11)/N)/epsilon, size=data.shape)\n",
    "    \n",
    "    min = 10000\n",
    "    \n",
    "    for i in range(M):\n",
    "        if pri_data[i] > 0 and pri_data[i] < min:\n",
    "            min = pri_data[i]\n",
    "    \n",
    "    for i in range(M):\n",
    "        if pri_data[i] < 0:\n",
    "            pri_data[i] = min\n",
    "    \n",
    "    return pri_data"
   ]
  },
  {
   "cell_type": "code",
   "execution_count": 3,
   "metadata": {},
   "outputs": [],
   "source": [
    "def total(n):\n",
    "    h = n[1]+n[2]+n[3] + 2*(n[4]+n[5]+n[6]+n[7]+n[8]+n[9])\n",
    "    i = n[3]+n[7]+n[8] + 2*n[9]\n",
    "    j = n[2]+n[5] + 2*n[6] + n[8]\n",
    "    \n",
    "    if h == 0:\n",
    "        return 0\n",
    "    else:\n",
    "        return (4*((i-h/4)**2) + 2*((i+j-h/2)**2) + 4*((j-h/4)**2))/h"
   ]
  },
  {
   "cell_type": "code",
   "execution_count": 4,
   "metadata": {},
   "outputs": [],
   "source": [
    "def f(x, y, theta):\n",
    "    t = (x - math.sqrt(2)*math.cos(theta))**2 + (y - math.sin(theta))**2\n",
    "    return math.sqrt(t)\n",
    "\n",
    "def eDistance(x,y):\n",
    "    if x != 0:\n",
    "        roots = np.roots([4, 4*y, 8*x*x + y*y -4, -4*y, -y*y])\n",
    "        #print(roots)\n",
    "        theta = np.zeros(9)\n",
    "        theta[0] = 0\n",
    "        c = 1\n",
    "        for i in range(4):\n",
    "            if roots[i] >= -1 and roots[i] <= 1:\n",
    "                theta[c] = math.asin(roots[i])\n",
    "                if theta[c] >= 0:\n",
    "                    theta[c+1] = math.pi - theta[c]\n",
    "                else:\n",
    "                    theta[c+1] = - math.pi - theta[c]\n",
    "                c += 2\n",
    "        #print(theta)\n",
    "        \n",
    "        distance = 1000000000\n",
    "        for j in range(c):\n",
    "            #print(f(x,y,theta[j]))\n",
    "            if f(x,y,theta[j]) < distance:\n",
    "                distance = f(x,y,theta[j])\n",
    "                \n",
    "    else:\n",
    "        if y > 0:\n",
    "            distance = math.fabs(1-y)\n",
    "        else:\n",
    "            distance = math.fabs(-1-y)\n",
    "    return distance"
   ]
  },
  {
   "cell_type": "code",
   "execution_count": 5,
   "metadata": {},
   "outputs": [],
   "source": [
    "def appx_SHD_total(cc,n):\n",
    "    h = n[1]+n[2]+n[3] + 2*(n[4]+n[5]+n[6]+n[7]+n[8]+n[9])\n",
    "    i = n[3]+n[7]+n[8] + 2*n[9]\n",
    "    j = n[2]+n[5] + 2*n[6] + n[8]\n",
    "    T = total(n)\n",
    "    \n",
    "    if h <= cc:\n",
    "        s = 2*(i-j)/cc\n",
    "        t = 2*(i+j-cc/2)/cc\n",
    "        d = eDistance(s,t)\n",
    "        if T < cc:\n",
    "            return -math.ceil((math.sqrt(2)-1)*(cc-h)/(2*math.sqrt(2)) + d*cc/8)\n",
    "        else:\n",
    "            return math.ceil((math.sqrt(2)-1)*(cc-h)/(2*math.sqrt(2)) + d*cc/8)-1\n",
    "    else:\n",
    "        s = 2*(i-j)/math.sqrt(h*cc)\n",
    "        t = 2*(i+j-h/2)/math.sqrt(h*cc)\n",
    "        d = eDistance(s,t)\n",
    "        if T < cc:\n",
    "            return -math.ceil(d*math.sqrt(h*cc)/8)\n",
    "        else:\n",
    "            return math.ceil(d*math.sqrt(h*cc)/8)-1"
   ]
  },
  {
   "cell_type": "code",
   "execution_count": 6,
   "metadata": {},
   "outputs": [],
   "source": [
    "def random_num(pd):\n",
    "    dist = np.cumsum(pd).tolist()\n",
    "    dist[-1] = 1.0\n",
    "    num = np.random.rand()\n",
    "    dist.append(num)\n",
    "    return sorted(dist).index(num)\n",
    "\n",
    "def exp_mec(shd, m, K, epsilon):\n",
    "    S = np.zeros(K)\n",
    "    k = 0\n",
    "    \n",
    "    w = np.zeros(m)\n",
    "    p = np.zeros(m)\n",
    "    \n",
    "    while k < K:\n",
    "        sumw = 0\n",
    "        for i in range(m):\n",
    "            w[i] = math.exp(epsilon * shd[i] / (2*K))\n",
    "            sumw += w[i]\n",
    "        for i in range(m):\n",
    "            p[i] = w[i]/sumw\n",
    "        \n",
    "        x = random_num(p)\n",
    "        shd[x] = -1000000.0\n",
    "        S[k] = x\n",
    "        k += 1\n",
    "    \n",
    "    return S"
   ]
  },
  {
   "cell_type": "code",
   "execution_count": 7,
   "metadata": {},
   "outputs": [
    {
     "data": {
      "text/plain": [
       "Text(0, 0.5, 'chi^2-total')"
      ]
     },
     "execution_count": 7,
     "metadata": {},
     "output_type": "execute_result"
    },
    {
     "data": {
      "image/png": "[encoded data removed]",
      "text/plain": [
       "<Figure size 432x288 with 1 Axes>"
      ]
     },
     "metadata": {
      "needs_background": "light"
     },
     "output_type": "display_data"
    }
   ],
   "source": [
    "N = 5000\n",
    "M = 1000000\n",
    "H = np.zeros(M)\n",
    "I = np.zeros(M)\n",
    "J = np.zeros(M)\n",
    "\n",
    "n = np.zeros((M,10))\n",
    "\n",
    "for i in range(M-10):\n",
    "    n[i][4] = np.random.binomial(2*N, 1/5)\n",
    "    S = np.random.binomial(2*N-n[i][4], 1/4) #n7+n9+n10\n",
    "    P = np.random.binomial(S, 1/2) #n7+n10\n",
    "    n[i][6] = np.random.binomial(P, 1/2)\n",
    "    n[i][9] = P - n[i][6]\n",
    "    n[i][8] = S - P\n",
    "    n[i][1] = np.random.binomial(2*N-n[i][4]-S, 1/3)\n",
    "    T = np.random.binomial(2*N-n[i][4]-n[i][1]-S, 1/2) #n3+n4\n",
    "    n[i][2] = np.random.binomial(T, 1/2)\n",
    "    n[i][3] = T - n[i][2]\n",
    "    R = 2*N-n[i][4]-n[i][1]-S-T\n",
    "    Q = np.random.binomial(R, 1/2) #n6+n8\n",
    "    n[i][5] = np.random.binomial(Q, 1/2)\n",
    "    n[i][7] = Q - n[i][5]\n",
    "    n[i][0] = R - Q\n",
    "    \n",
    "    H[i] = n[i][1]+n[i][2]+n[i][3] + 2*(n[i][4]+n[i][5]+n[i][6]+n[i][7]+n[i][8]+n[i][9])\n",
    "    I[i] = n[i][3]+n[i][7]+n[i][8] + 2*n[i][9]\n",
    "    J[i] = n[i][2]+n[i][5] + 2*n[i][6] + n[i][8]\n",
    "    \n",
    "for i in range(M-10,M):\n",
    "    n[i][4] = np.random.binomial(2*N, 1.1/5)\n",
    "    S = np.random.binomial(2*N-n[i][4], 1/4) #n7+n9+n10\n",
    "    P = np.random.binomial(S, 1/2) #n7+n10\n",
    "    n[i][6] = np.random.binomial(P, 1.1/2)\n",
    "    n[i][9] = P - n[i][6]\n",
    "    n[i][8] = S - P\n",
    "    n[i][1] = np.random.binomial(2*N-n[i][4]-S, 1.1/3)\n",
    "    T = np.random.binomial(2*N-n[i][4]-n[i][1]-S, 1/2) #n3+n4\n",
    "    n[i][2] = np.random.binomial(T, 1.1/2)\n",
    "    n[i][3] = T - n[i][2]\n",
    "    R = 2*N-n[i][4]-n[i][1]-S-T\n",
    "    Q = np.random.binomial(R, 1/2) #n6+n8\n",
    "    n[i][5] = np.random.binomial(Q, 1.1/2)\n",
    "    n[i][7] = Q - n[i][5]\n",
    "    n[i][0] = R - Q\n",
    "    \n",
    "    H[i] = n[i][1]+n[i][2]+n[i][3] + 2*(n[i][4]+n[i][5]+n[i][6]+n[i][7]+n[i][8]+n[i][9])\n",
    "    I[i] = n[i][3]+n[i][7]+n[i][8] + 2*n[i][9]\n",
    "    J[i] = n[i][2]+n[i][5] + 2*n[i][6] + n[i][8]\n",
    "\n",
    "stats = np.zeros(M)\n",
    "order = np.zeros(M)\n",
    "\n",
    "for i in range(M):\n",
    "    order[i] = i\n",
    "    if H[i] == 0:\n",
    "        stats[i] = 0\n",
    "    else:\n",
    "        stats[i] = (2*((I[i]-J[i])**2))/H[i] + ((2*I[i] + 2*J[i] - H[i])**2)/H[i]\n",
    "\n",
    "x = np.argsort(stats)\n",
    "sorted_stats = sorted(stats, reverse=True)\n",
    "\n",
    "fig = plt.figure()\n",
    "plt.ylim(-1, max(stats)+2)\n",
    "plt.xlim(-2, 102)\n",
    "plt.plot(order, sorted_stats, marker=\"o\", markersize=2, color = \"red\", linestyle = \"None\")\n",
    "plt.axhline(33.6, color = \"black\", linestyle = \"-.\")\n",
    "plt.xlabel(\"rank\", fontsize = 18)\n",
    "plt.ylabel(\"chi^2-total\", fontsize = 18)\n",
    "#fig.savefig(\"stats-total.png\")\n",
    "#fig.savefig(\"fig/stats-total.eps\")"
   ]
  },
  {
   "cell_type": "code",
   "execution_count": 8,
   "metadata": {},
   "outputs": [
    {
     "name": "stderr",
     "output_type": "stream",
     "text": [
      "<ipython-input-4-93072744abec>:14: ComplexWarning: Casting complex values to real discards the imaginary part\n",
      "  theta[c] = math.asin(roots[i])\n"
     ]
    },
    {
     "name": "stdout",
     "output_type": "stream",
     "text": [
      "[-85. -51. -63. ...  52.  79.  41.]\n"
     ]
    }
   ],
   "source": [
    "cc = 33.6\n",
    "appx_shd = np.zeros(M)\n",
    "\n",
    "for i in range(M):\n",
    "    k = [int(n[i][0]), int(n[i][1]), int(n[i][2]), int(n[i][3]), int(n[i][4]), int(n[i][5]), int(n[i][6]), int(n[i][7]), int(n[i][8]), int(n[i][9])]\n",
    "    appx_shd[i] = appx_SHD_total(cc,k)\n",
    "\n",
    "print(appx_shd)"
   ]
  },
  {
   "cell_type": "code",
   "execution_count": 9,
   "metadata": {},
   "outputs": [],
   "source": [
    "def rankError_Lap(data,epsilon, K, N, M):\n",
    "    RE = 0\n",
    "    for j in range(50):\n",
    "        noisy_stats = lap_noise(np.array(data), epsilon, K, N, M)\n",
    "        noisy_rank = rankdata(-noisy_stats)\n",
    "        #print(noisy_rank)\n",
    "        for i in range(K):\n",
    "            for j in range(M):\n",
    "                if noisy_rank[j] == i+1:\n",
    "                    RE += math.fabs(j-i)\n",
    "    RE /= (K*50)\n",
    "    return RE"
   ]
  },
  {
   "cell_type": "code",
   "execution_count": 10,
   "metadata": {},
   "outputs": [],
   "source": [
    "def rankError_Exp(x, appx_shd, epsilon, K, N, M):\n",
    "    RE = 0\n",
    "    cc = 33.6\n",
    "    \n",
    "    #print(x)\n",
    "        \n",
    "    APPX = np.zeros(M)\n",
    "        \n",
    "    for j in range(50):\n",
    "            \n",
    "        for i in range(M):\n",
    "            APPX[i] = appx_shd[i]\n",
    "        \n",
    "        #print(APPX)\n",
    "        #print(SHD)\n",
    "        \n",
    "        appx_result = exp_mec(APPX, M, K, epsilon)\n",
    "        \n",
    "        for k in range(K):\n",
    "            for l in range(M):\n",
    "                if(appx_result[k] == x[M-1-l]):\n",
    "                    RE += math.fabs(k-l)\n",
    "                    break\n",
    "    RE /= (K*50)\n",
    "    return RE"
   ]
  },
  {
   "cell_type": "code",
   "execution_count": 11,
   "metadata": {},
   "outputs": [
    {
     "name": "stdout",
     "output_type": "stream",
     "text": [
      "[[5.11781028e+05 3.72997500e+05]\n",
      " [4.87279576e+05 2.60000000e-01]\n",
      " [4.69605640e+05 2.80000000e-02]\n",
      " [4.52113544e+05 0.00000000e+00]\n",
      " [4.26043812e+05 0.00000000e+00]\n",
      " [1.80075596e+05 0.00000000e+00]\n",
      " [1.52796760e+04 0.00000000e+00]]\n"
     ]
    }
   ],
   "source": [
    "K = 1\n",
    "N = 5000\n",
    "M = 1000000\n",
    "\n",
    "RE = np.zeros((7,2))\n",
    "sum_re = np.zeros((7,2))\n",
    "\n",
    "epsilon = [0.1, 0.5, 1.0, 2.0, 3.0, 4.0, 5.0]\n",
    "\n",
    "for j in range(5):\n",
    "    for i in range(7):\n",
    "        RE[i][0] = rankError_Lap(sorted_stats,epsilon[i],K,N,M)\n",
    "        RE[i][1] = rankError_Exp(x,appx_shd,epsilon[i],K,N,M)\n",
    "        sum_re[i] += RE[i]\n",
    "    #print(RE)\n",
    "\n",
    "RE = sum_re / 5\n",
    "print(RE)"
   ]
  },
  {
   "cell_type": "code",
   "execution_count": 12,
   "metadata": {},
   "outputs": [
    {
     "name": "stdout",
     "output_type": "stream",
     "text": [
      "[[4.90177824e+05 3.89217234e+05]\n",
      " [5.01671094e+05 1.24844000e+02]\n",
      " [4.81768182e+05 2.58000000e-01]\n",
      " [4.90922086e+05 4.60000000e-02]\n",
      " [4.61141280e+05 2.00000000e-03]\n",
      " [4.69354234e+05 0.00000000e+00]\n",
      " [4.60090154e+05 0.00000000e+00]]\n"
     ]
    }
   ],
   "source": [
    "K = 2\n",
    "N = 5000\n",
    "M = 1000000\n",
    "\n",
    "RE = np.zeros((7,2))\n",
    "sum_re = np.zeros((7,2))\n",
    "\n",
    "epsilon = [0.1, 0.5, 1.0, 2.0, 3.0, 4.0, 5.0]\n",
    "\n",
    "for j in range(5):\n",
    "    for i in range(7):\n",
    "        RE[i][0] = rankError_Lap(sorted_stats,epsilon[i],K,N,M)\n",
    "        RE[i][1] = rankError_Exp(x,appx_shd,epsilon[i],K,N,M)\n",
    "        sum_re[i] += RE[i]\n",
    "    #print(RE)\n",
    "\n",
    "RE = sum_re / 5\n",
    "print(RE)"
   ]
  },
  {
   "cell_type": "code",
   "execution_count": 13,
   "metadata": {},
   "outputs": [
    {
     "name": "stdout",
     "output_type": "stream",
     "text": [
      "[[5.22550527e+05 4.45436355e+05]\n",
      " [4.99342255e+05 1.46860860e+05]\n",
      " [4.99414115e+05 6.17333333e-01]\n",
      " [4.85929096e+05 1.56000000e-01]\n",
      " [4.81769140e+05 4.80000000e-02]\n",
      " [4.77167185e+05 1.33333333e-02]\n",
      " [4.44560996e+05 2.66666667e-03]]\n"
     ]
    }
   ],
   "source": [
    "K = 3\n",
    "N = 5000\n",
    "M = 1000000\n",
    "\n",
    "RE = np.zeros((7,2))\n",
    "sum_re = np.zeros((7,2))\n",
    "\n",
    "epsilon = [0.1, 0.5, 1.0, 2.0, 3.0, 4.0, 5.0]\n",
    "\n",
    "for j in range(5):\n",
    "    for i in range(7):\n",
    "        RE[i][0] = rankError_Lap(sorted_stats,epsilon[i],K,N,M)\n",
    "        RE[i][1] = rankError_Exp(x,appx_shd,epsilon[i],K,N,M)\n",
    "        sum_re[i] += RE[i]\n",
    "    #print(RE)\n",
    "\n",
    "RE = sum_re / 5\n",
    "print(RE)"
   ]
  },
  {
   "cell_type": "code",
   "execution_count": 14,
   "metadata": {},
   "outputs": [
    {
     "name": "stdout",
     "output_type": "stream",
     "text": [
      "[[5.01172840e+05 4.58117466e+05]\n",
      " [5.00776789e+05 3.47050406e+05]\n",
      " [4.96474151e+05 5.49801560e+04]\n",
      " [4.98956046e+05 5.94400000e-01]\n",
      " [4.82779757e+05 3.38400000e-01]\n",
      " [4.78503941e+05 1.37600000e-01]\n",
      " [4.82027269e+05 7.92000000e-02]]\n"
     ]
    }
   ],
   "source": [
    "K = 5\n",
    "N = 5000\n",
    "M = 1000000\n",
    "\n",
    "RE = np.zeros((7,2))\n",
    "sum_re = np.zeros((7,2))\n",
    "\n",
    "epsilon = [0.1, 0.5, 1.0, 2.0, 3.0, 4.0, 5.0]\n",
    "\n",
    "for j in range(5):\n",
    "    for i in range(7):\n",
    "        RE[i][0] = rankError_Lap(sorted_stats,epsilon[i],K,N,M)\n",
    "        RE[i][1] = rankError_Exp(x,appx_shd,epsilon[i],K,N,M)\n",
    "        sum_re[i] += RE[i]\n",
    "    #print(RE)\n",
    "\n",
    "RE = sum_re / 5\n",
    "print(RE)"
   ]
  },
  {
   "cell_type": "code",
   "execution_count": 15,
   "metadata": {},
   "outputs": [
    {
     "name": "stdout",
     "output_type": "stream",
     "text": [
      "[[4.90209431e+05 4.83926206e+05]\n",
      " [4.98889018e+05 4.25267411e+05]\n",
      " [4.89864672e+05 3.43885001e+05]\n",
      " [4.89043432e+05 9.15881372e+04]\n",
      " [4.94864304e+05 8.25595000e+03]\n",
      " [4.95630304e+05 3.16711600e+02]\n",
      " [4.87695616e+05 2.46588000e+01]]\n"
     ]
    }
   ],
   "source": [
    "K = 10\n",
    "N = 5000\n",
    "M = 1000000\n",
    "\n",
    "RE = np.zeros((7,2))\n",
    "sum_re = np.zeros((7,2))\n",
    "\n",
    "epsilon = [0.1, 0.5, 1.0, 2.0, 3.0, 4.0, 5.0]\n",
    "\n",
    "for j in range(5):\n",
    "    for i in range(7):\n",
    "        RE[i][0] = rankError_Lap(sorted_stats,epsilon[i],K,N,M)\n",
    "        RE[i][1] = rankError_Exp(x,appx_shd,epsilon[i],K,N,M)\n",
    "        sum_re[i] += RE[i]\n",
    "    #print(RE)\n",
    "\n",
    "RE = sum_re / 5\n",
    "print(RE)"
   ]
  },
  {
   "cell_type": "code",
   "execution_count": null,
   "metadata": {},
   "outputs": [],
   "source": []
  }
 ],
 "metadata": {
  "kernelspec": {
   "display_name": "Python 3",
   "language": "python",
   "name": "python3"
  },
  "language_info": {
   "codemirror_mode": {
    "name": "ipython",
    "version": 3
   },
   "file_extension": ".py",
   "mimetype": "text/x-python",
   "name": "python",
   "nbconvert_exporter": "python",
   "pygments_lexer": "ipython3",
   "version": "3.9.0"
  }
 },
 "nbformat": 4,
 "nbformat_minor": 4
}
