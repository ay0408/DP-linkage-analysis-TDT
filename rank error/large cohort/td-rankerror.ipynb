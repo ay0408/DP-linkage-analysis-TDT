{
 "cells": [
  {
   "cell_type": "code",
   "execution_count": 1,
   "metadata": {},
   "outputs": [],
   "source": [
    "import numpy as np\n",
    "import math\n",
    "from scipy import integrate\n",
    "import matplotlib.pyplot as plt\n",
    "import random\n",
    "import time\n",
    "from scipy.stats import rankdata"
   ]
  },
  {
   "cell_type": "code",
   "execution_count": 2,
   "metadata": {},
   "outputs": [],
   "source": [
    "def lap_noise(data, epsilon, K, N, M):\n",
    "    pri_data = data + np.random.laplace(loc = 0.0, scale = (2*K*16*(N-1)/N)/epsilon, size=data.shape)\n",
    "    \n",
    "    min = 10000\n",
    "    \n",
    "    for i in range(M):\n",
    "        if pri_data[i] > 0 and pri_data[i] < min:\n",
    "            min = pri_data[i]\n",
    "    \n",
    "    for i in range(M):\n",
    "        if pri_data[i] < 0:\n",
    "            pri_data[i] = min\n",
    "    \n",
    "    return pri_data"
   ]
  },
  {
   "cell_type": "code",
   "execution_count": 3,
   "metadata": {},
   "outputs": [],
   "source": [
    "def td(n):\n",
    "    h = n[1]+n[2]+n[3] + 2*(n[4]+n[5]+n[6]+n[7]+n[8]+n[9])\n",
    "    i = n[3]+n[7]+n[8] + 2*n[9]\n",
    "    j = n[2]+n[5] + 2*n[6] + n[8]\n",
    "    \n",
    "    if h == 0:\n",
    "        return 0\n",
    "    else:\n",
    "        return (2*((i-j)**2))/h\n",
    "\n",
    "def SHD_td(cc,n):\n",
    "    h = n[1]+n[2]+n[3] + 2*(n[4]+n[5]+n[6]+n[7]+n[8]+n[9])\n",
    "    i = n[3]+n[7]+n[8] + 2*n[9]\n",
    "    j = n[2]+n[5] + 2*n[6] + n[8]\n",
    "    T = td(n)\n",
    "    \n",
    "    d = np.zeros(2)\n",
    "    N = np.zeros(10)\n",
    "    \n",
    "    for k in range(10):\n",
    "        N[k] = n[k]\n",
    "    \n",
    "    if T < cc:\n",
    "        while T < cc:\n",
    "            if N[6] > 0: N[6] -= 1\n",
    "            elif N[5] > 0: N[5] -= 1\n",
    "            elif N[2] > 0: N[2] -= 1\n",
    "            elif N[4] > 0: N[4] -= 1\n",
    "            elif N[8] > 0: N[8] -= 1\n",
    "            elif N[1] > 0: N[1] -= 1\n",
    "            elif N[0] > 0: N[0] -= 1\n",
    "            elif N[7] > 0: N[7] -= 1\n",
    "            else: N[3] -= 1\n",
    "            N[9] += 1\n",
    "            \n",
    "            T = td(N)\n",
    "            d[0] -= 1\n",
    "        \n",
    "        T = td(n)\n",
    "        for k in range(10):\n",
    "            N[k] = n[k]\n",
    "        \n",
    "        while T < cc:\n",
    "            if N[9] > 0: N[9] -= 1\n",
    "            elif N[7] > 0: N[7] -= 1\n",
    "            elif N[3] > 0: N[3] -= 1\n",
    "            elif N[4] > 0: N[4] -= 1\n",
    "            elif N[8] > 0: N[8] -= 1\n",
    "            elif N[1] > 0: N[1] -= 1\n",
    "            elif N[0] > 0: N[0] -= 1\n",
    "            elif N[5] > 0: N[5] -= 1\n",
    "            else: N[2] -= 1\n",
    "            N[6] += 1\n",
    "            \n",
    "            T = td(N)\n",
    "            d[1] -= 1\n",
    "        \n",
    "        if d[0] > d[1]:\n",
    "            return d[0]\n",
    "        else:\n",
    "            return d[1]\n",
    "        \n",
    "    else:\n",
    "        step = 0\n",
    "        \n",
    "        for k in range(10):\n",
    "            N[k] = n[k]\n",
    "            \n",
    "        if i > j:\n",
    "            while T >= cc:\n",
    "                if N[9] > 0: N[9] -= 1\n",
    "                elif N[3] > 0: N[3] -= 1\n",
    "                elif N[7] > 0: N[7] -= 1\n",
    "                elif N[0] > 0: N[0] -= 1\n",
    "                elif N[1] > 0: N[1] -= 1\n",
    "                elif N[4] > 0: N[4] -= 1\n",
    "                elif N[8] > 0: N[8] -= 1\n",
    "                elif N[2] > 0: N[2] -= 1\n",
    "                else: N[5] -= 1\n",
    "                N[6] += 1\n",
    "                \n",
    "                T = td(N)\n",
    "                step += 1\n",
    "        else:\n",
    "            while T >= cc:\n",
    "                if N[6] > 0: N[6] -= 1\n",
    "                elif N[2] > 0: N[2] -= 1\n",
    "                elif N[5] > 0: N[5] -= 1\n",
    "                elif N[0] > 0: N[0] -= 1\n",
    "                elif N[1] > 0: N[1] -= 1\n",
    "                elif N[4] > 0: N[4] -= 1\n",
    "                elif N[8] > 0: N[8] -= 1\n",
    "                elif N[3] > 0: N[3] -= 1\n",
    "                else: N[7] -= 1\n",
    "                N[9] += 1\n",
    "                \n",
    "                T = td(N)\n",
    "                step += 1\n",
    "                \n",
    "        return step-1"
   ]
  },
  {
   "cell_type": "code",
   "execution_count": 4,
   "metadata": {},
   "outputs": [],
   "source": [
    "def appx_SHD_td(cc,n):\n",
    "    h = n[1]+n[2]+n[3] + 2*(n[4]+n[5]+n[6]+n[7]+n[8]+n[9])\n",
    "    i = n[3]+n[7]+n[8] + 2*n[9]\n",
    "    j = n[2]+n[5] + 2*n[6] + n[8]\n",
    "    T = td(n)\n",
    "    \n",
    "    if T < cc:\n",
    "        if h <= cc/2:\n",
    "            return -math.ceil((cc-h-math.fabs(i-j))/4)\n",
    "        else:\n",
    "            return -math.ceil((math.sqrt(h*cc/2)-math.fabs(i-j))/4)\n",
    "    else:\n",
    "        return math.ceil((math.fabs(i-j)-math.sqrt(h*cc/2))/4) - 1"
   ]
  },
  {
   "cell_type": "code",
   "execution_count": 5,
   "metadata": {},
   "outputs": [],
   "source": [
    "def random_num(pd):\n",
    "    dist = np.cumsum(pd).tolist()\n",
    "    dist[-1] = 1.0\n",
    "    num = np.random.rand()\n",
    "    dist.append(num)\n",
    "    return sorted(dist).index(num)\n",
    "\n",
    "def exp_mec(shd, m, K, epsilon):\n",
    "    S = np.zeros(K)\n",
    "    k = 0\n",
    "    \n",
    "    w = np.zeros(m)\n",
    "    p = np.zeros(m)\n",
    "    \n",
    "    while k < K:\n",
    "        sumw = 0\n",
    "        for i in range(m):\n",
    "            w[i] = math.exp(epsilon * shd[i] / (2*K))\n",
    "            sumw += w[i]\n",
    "        for i in range(m):\n",
    "            p[i] = w[i]/sumw\n",
    "        \n",
    "        x = random_num(p)\n",
    "        shd[x] = -1000000.0\n",
    "        S[k] = x\n",
    "        k += 1\n",
    "    \n",
    "    return S"
   ]
  },
  {
   "cell_type": "code",
   "execution_count": 6,
   "metadata": {},
   "outputs": [
    {
     "data": {
      "text/plain": [
       "Text(0, 0.5, 'chi^2-td')"
      ]
     },
     "execution_count": 6,
     "metadata": {},
     "output_type": "execute_result"
    },
    {
     "data": {
      "image/png": "[encoded data removed]",
      "text/plain": [
       "<Figure size 432x288 with 1 Axes>"
      ]
     },
     "metadata": {
      "needs_background": "light"
     },
     "output_type": "display_data"
    }
   ],
   "source": [
    "N = 5000\n",
    "M = 1000000\n",
    "H = np.zeros(M)\n",
    "I = np.zeros(M)\n",
    "J = np.zeros(M)\n",
    "\n",
    "n = np.zeros((M,10))\n",
    "\n",
    "for i in range(M-10):\n",
    "    for j in range(10):\n",
    "        S = 0\n",
    "        for k in range(j):\n",
    "            S += n[i][k]\n",
    "        n[i][j] = np.random.binomial(2*N-S, 1/(10-j))\n",
    "    H[i] = n[i][1]+n[i][2]+n[i][3] + 2*(n[i][4]+n[i][5]+n[i][6]+n[i][7]+n[i][8]+n[i][9])\n",
    "    I[i] = n[i][3]+n[i][7]+n[i][8] + 2*n[i][9]\n",
    "    J[i] = n[i][2]+n[i][5] + 2*n[i][6] + n[i][8]\n",
    "\n",
    "for i in range(M-10,M):\n",
    "    for j in range(10):\n",
    "        S = 0\n",
    "        for k in range(j):\n",
    "            S += n[i][k]\n",
    "        if j == 2 or j == 5 or j == 6:\n",
    "            n[i][j] = np.random.binomial(2*N-S, 1.14/(10-j))\n",
    "        else:\n",
    "            n[i][j] = np.random.binomial(2*N-S, 1/(10-j))\n",
    "    H[i] = n[i][1]+n[i][2]+n[i][3] + 2*(n[i][4]+n[i][5]+n[i][6]+n[i][7]+n[i][8]+n[i][9])\n",
    "    I[i] = n[i][3]+n[i][7]+n[i][8] + 2*n[i][9]\n",
    "    J[i] = n[i][2]+n[i][5] + 2*n[i][6] + n[i][8]\n",
    "\n",
    "stats = np.zeros(M)\n",
    "order = np.zeros(M)\n",
    "\n",
    "for i in range(M):\n",
    "    order[i] = i\n",
    "    if H[i] == 0:\n",
    "        stats[i] = 0\n",
    "    else:\n",
    "        stats[i] = (2*((I[i]-J[i])**2))/H[i]\n",
    "\n",
    "x = np.argsort(stats)\n",
    "sorted_stats = sorted(stats, reverse=True)\n",
    "\n",
    "fig = plt.figure()\n",
    "plt.ylim(-1, max(stats)+2)\n",
    "plt.xlim(-2, 102)\n",
    "plt.plot(order, sorted_stats, marker=\"o\", markersize=2, color = \"red\", linestyle = \"None\")\n",
    "plt.axhline(29.7, color = \"black\", linestyle = \"-.\")\n",
    "plt.xlabel(\"rank\", fontsize = 18)\n",
    "plt.ylabel(\"chi^2-td\", fontsize = 18)\n",
    "#fig.savefig(\"stats-td.png\")\n",
    "#fig.savefig(\"fig/stats-td.eps\")"
   ]
  },
  {
   "cell_type": "code",
   "execution_count": 7,
   "metadata": {},
   "outputs": [
    {
     "name": "stdout",
     "output_type": "stream",
     "text": [
      "[ -85.  -56. -111. ...   35.   73.   56.]\n",
      "[ -85.  -56. -111. ...   35.   73.   56.]\n"
     ]
    }
   ],
   "source": [
    "cc = 29.7\n",
    "appx_shd = np.zeros(M)\n",
    "shd = np.zeros(M)\n",
    "\n",
    "for i in range(M):\n",
    "    k = [int(n[i][0]), int(n[i][1]), int(n[i][2]), int(n[i][3]), int(n[i][4]), int(n[i][5]), int(n[i][6]), int(n[i][7]), int(n[i][8]), int(n[i][9])]\n",
    "    appx_shd[i] = appx_SHD_td(cc,k)\n",
    "    shd[i] = SHD_td(cc,k)\n",
    "\n",
    "print(appx_shd)\n",
    "print(shd)"
   ]
  },
  {
   "cell_type": "code",
   "execution_count": 8,
   "metadata": {},
   "outputs": [],
   "source": [
    "def rankError_Lap(data,epsilon, K, N, M):\n",
    "    RE = 0\n",
    "    for j in range(50):\n",
    "        noisy_stats = lap_noise(np.array(data), epsilon, K, N, M)\n",
    "        noisy_rank = rankdata(-noisy_stats)\n",
    "        #print(noisy_rank)\n",
    "        for i in range(K):\n",
    "            for j in range(M):\n",
    "                if noisy_rank[j] == i+1:\n",
    "                    RE += math.fabs(j-i)\n",
    "    RE /= (K*50)\n",
    "    return RE"
   ]
  },
  {
   "cell_type": "code",
   "execution_count": 9,
   "metadata": {},
   "outputs": [],
   "source": [
    "def rankError_Exp(x, appx_shd, shd, epsilon, K, N, M):\n",
    "    RE = np.zeros(2)\n",
    "    cc = 29.7\n",
    "    \n",
    "    #print(x)\n",
    "        \n",
    "    APPX = np.zeros(M)\n",
    "    SHD = np.zeros(M)\n",
    "        \n",
    "    for j in range(50):\n",
    "            \n",
    "        for i in range(M):\n",
    "            APPX[i] = appx_shd[i]\n",
    "            SHD[i] = shd[i]\n",
    "        \n",
    "        #print(APPX)\n",
    "        #print(SHD)\n",
    "        \n",
    "        appx_result = exp_mec(APPX, M, K, epsilon)\n",
    "        exact_result = exp_mec(SHD, M, K, epsilon)\n",
    "        #print(appx_result)\n",
    "        #print(rank[int(appx_result[0])])\n",
    "        #print(exact_result)\n",
    "        for k in range(K):\n",
    "            for l in range(M):\n",
    "                if(appx_result[k] == x[M-1-l]):\n",
    "                    RE[0] += math.fabs(k-l)\n",
    "                    break\n",
    "            for l in range(M):\n",
    "                if(exact_result[k] == x[M-1-l]):\n",
    "                    RE[1] += math.fabs(k-l)\n",
    "                    break\n",
    "    RE /= (K*50)\n",
    "    return RE"
   ]
  },
  {
   "cell_type": "code",
   "execution_count": 10,
   "metadata": {},
   "outputs": [
    {
     "name": "stdout",
     "output_type": "stream",
     "text": [
      "[[4.72246860e+05 2.32678156e+05 2.25828780e+05]\n",
      " [4.91019744e+05 0.00000000e+00 4.00000000e-03]\n",
      " [4.82571696e+05 0.00000000e+00 0.00000000e+00]\n",
      " [4.53277600e+05 0.00000000e+00 0.00000000e+00]\n",
      " [4.17676124e+05 0.00000000e+00 0.00000000e+00]\n",
      " [1.88399772e+05 0.00000000e+00 0.00000000e+00]\n",
      " [2.55489440e+04 0.00000000e+00 0.00000000e+00]]\n"
     ]
    }
   ],
   "source": [
    "K = 1\n",
    "N = 5000\n",
    "M = 1000000\n",
    "\n",
    "RE = np.zeros((7,3))\n",
    "sum_re = np.zeros((7,3))\n",
    "\n",
    "epsilon = [0.1, 0.5, 1.0, 2.0, 3.0, 4.0, 5.0]\n",
    "\n",
    "for j in range(5):\n",
    "    for i in range(7):\n",
    "        RE[i][0] = rankError_Lap(sorted_stats,epsilon[i],K,N,M)\n",
    "        RE[i][1] = rankError_Exp(x,appx_shd,shd,epsilon[i],K,N,M)[0]\n",
    "        RE[i][2] = rankError_Exp(x,appx_shd,shd,epsilon[i],K,N,M)[1]\n",
    "        sum_re[i] += RE[i]\n",
    "    #print(RE)\n",
    "\n",
    "RE = sum_re / 5\n",
    "print(RE)"
   ]
  },
  {
   "cell_type": "code",
   "execution_count": 11,
   "metadata": {},
   "outputs": [
    {
     "name": "stdout",
     "output_type": "stream",
     "text": [
      "[[5.20343424e+05 3.90236444e+05 3.80425510e+05]\n",
      " [4.81722830e+05 4.50000000e+00 3.70000000e-01]\n",
      " [4.90236316e+05 9.20000000e-02 9.20000000e-02]\n",
      " [4.99010794e+05 4.00000000e-03 1.20000000e-02]\n",
      " [4.57890268e+05 0.00000000e+00 0.00000000e+00]\n",
      " [4.78561002e+05 0.00000000e+00 0.00000000e+00]\n",
      " [4.60953424e+05 0.00000000e+00 0.00000000e+00]]\n"
     ]
    }
   ],
   "source": [
    "K = 2\n",
    "N = 5000\n",
    "M = 1000000\n",
    "\n",
    "RE = np.zeros((7,3))\n",
    "sum_re = np.zeros((7,3))\n",
    "\n",
    "epsilon = [0.1, 0.5, 1.0, 2.0, 3.0, 4.0, 5.0]\n",
    "\n",
    "for j in range(5):\n",
    "    for i in range(7):\n",
    "        RE[i][0] = rankError_Lap(sorted_stats,epsilon[i],K,N,M)\n",
    "        RE[i][1] = rankError_Exp(x,appx_shd,shd,epsilon[i],K,N,M)[0]\n",
    "        RE[i][2] = rankError_Exp(x,appx_shd,shd,epsilon[i],K,N,M)[1]\n",
    "        sum_re[i] += RE[i]\n",
    "    #print(RE)\n",
    "\n",
    "RE = sum_re / 5\n",
    "print(RE)"
   ]
  },
  {
   "cell_type": "code",
   "execution_count": 12,
   "metadata": {},
   "outputs": [
    {
     "name": "stdout",
     "output_type": "stream",
     "text": [
      "[[4.83433688e+05 4.29852021e+05 4.27889083e+05]\n",
      " [4.94367815e+05 2.13786827e+04 2.19226387e+04]\n",
      " [4.89516551e+05 4.26800000e+00 2.96000000e-01]\n",
      " [4.80448615e+05 9.46666667e-02 6.26666667e-02]\n",
      " [4.74649804e+05 1.86666667e-02 2.53333333e-02]\n",
      " [4.71781757e+05 1.20000000e-02 5.33333333e-03]\n",
      " [4.74538824e+05 0.00000000e+00 0.00000000e+00]]\n"
     ]
    }
   ],
   "source": [
    "K = 3\n",
    "N = 5000\n",
    "M = 1000000\n",
    "\n",
    "RE = np.zeros((7,3))\n",
    "sum_re = np.zeros((7,3))\n",
    "\n",
    "epsilon = [0.1, 0.5, 1.0, 2.0, 3.0, 4.0, 5.0]\n",
    "\n",
    "for j in range(5):\n",
    "    for i in range(7):\n",
    "        RE[i][0] = rankError_Lap(sorted_stats,epsilon[i],K,N,M)\n",
    "        RE[i][1] = rankError_Exp(x,appx_shd,shd,epsilon[i],K,N,M)[0]\n",
    "        RE[i][2] = rankError_Exp(x,appx_shd,shd,epsilon[i],K,N,M)[1]\n",
    "        sum_re[i] += RE[i]\n",
    "    #print(RE)\n",
    "\n",
    "RE = sum_re / 5\n",
    "print(RE)"
   ]
  },
  {
   "cell_type": "code",
   "execution_count": 13,
   "metadata": {},
   "outputs": [
    {
     "name": "stdout",
     "output_type": "stream",
     "text": [
      "[[5.00576815e+05 4.59521701e+05 4.56179842e+05]\n",
      " [5.03640681e+05 2.22012525e+05 2.34815985e+05]\n",
      " [4.90292146e+05 8.24115600e+03 6.49920880e+03]\n",
      " [4.89639191e+05 2.87200000e-01 2.72000000e-01]\n",
      " [4.88646376e+05 1.20800000e-01 1.38400000e-01]\n",
      " [4.82163589e+05 5.20000000e-02 4.80000000e-02]\n",
      " [4.84780159e+05 2.00000000e-02 1.60000000e-02]]\n"
     ]
    }
   ],
   "source": [
    "K = 5\n",
    "N = 5000\n",
    "M = 1000000\n",
    "\n",
    "RE = np.zeros((7,3))\n",
    "sum_re = np.zeros((7,3))\n",
    "\n",
    "epsilon = [0.1, 0.5, 1.0, 2.0, 3.0, 4.0, 5.0]\n",
    "\n",
    "for j in range(5):\n",
    "    for i in range(7):\n",
    "        RE[i][0] = rankError_Lap(sorted_stats,epsilon[i],K,N,M)\n",
    "        RE[i][1] = rankError_Exp(x,appx_shd,shd,epsilon[i],K,N,M)[0]\n",
    "        RE[i][2] = rankError_Exp(x,appx_shd,shd,epsilon[i],K,N,M)[1]\n",
    "        sum_re[i] += RE[i]\n",
    "    #print(RE)\n",
    "\n",
    "RE = sum_re / 5\n",
    "print(RE)"
   ]
  },
  {
   "cell_type": "code",
   "execution_count": 14,
   "metadata": {},
   "outputs": [
    {
     "name": "stdout",
     "output_type": "stream",
     "text": [
      "[[5.06819389e+05 4.77755755e+05 4.77377886e+05]\n",
      " [4.98123956e+05 3.69874944e+05 3.83379328e+05]\n",
      " [5.08731806e+05 2.32605045e+05 2.36907410e+05]\n",
      " [4.99335243e+05 1.91683012e+04 1.88655752e+04]\n",
      " [5.03676733e+05 6.75222400e+02 3.09210000e+02]\n",
      " [4.92720842e+05 4.82416000e+01 4.18680000e+00]\n",
      " [4.92156621e+05 2.10760000e+00 4.70000000e-01]]\n"
     ]
    }
   ],
   "source": [
    "K = 10\n",
    "N = 5000\n",
    "M = 1000000\n",
    "\n",
    "RE = np.zeros((7,3))\n",
    "sum_re = np.zeros((7,3))\n",
    "\n",
    "epsilon = [0.1, 0.5, 1.0, 2.0, 3.0, 4.0, 5.0]\n",
    "\n",
    "for j in range(5):\n",
    "    for i in range(7):\n",
    "        RE[i][0] = rankError_Lap(sorted_stats,epsilon[i],K,N,M)\n",
    "        RE[i][1] = rankError_Exp(x,appx_shd,shd,epsilon[i],K,N,M)[0]\n",
    "        RE[i][2] = rankError_Exp(x,appx_shd,shd,epsilon[i],K,N,M)[1]\n",
    "        sum_re[i] += RE[i]\n",
    "    #print(RE)\n",
    "\n",
    "RE = sum_re / 5\n",
    "print(RE)"
   ]
  },
  {
   "cell_type": "code",
   "execution_count": null,
   "metadata": {},
   "outputs": [],
   "source": []
  }
 ],
 "metadata": {
  "kernelspec": {
   "display_name": "Python 3",
   "language": "python",
   "name": "python3"
  },
  "language_info": {
   "codemirror_mode": {
    "name": "ipython",
    "version": 3
   },
   "file_extension": ".py",
   "mimetype": "text/x-python",
   "name": "python",
   "nbconvert_exporter": "python",
   "pygments_lexer": "ipython3",
   "version": "3.9.0"
  }
 },
 "nbformat": 4,
 "nbformat_minor": 4
}
